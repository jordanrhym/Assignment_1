{
 "cells": [
  {
   "cell_type": "code",
   "execution_count": 1,
   "metadata": {},
   "outputs": [],
   "source": [
    "import csv\n",
    "import json\n",
    "import requests\n",
    "import os\n",
    "from os.path import join\n",
    "import glob"
   ]
  },
  {
   "cell_type": "code",
   "execution_count": 34,
   "metadata": {},
   "outputs": [],
   "source": [
    "url = \"https://www.loc.gov/free-to-use\"\n",
    "page = \"fish-and-fishing\"\n",
    "parameters = {\"fo\" : \"json\"}"
   ]
  },
  {
   "cell_type": "code",
   "execution_count": 35,
   "metadata": {},
   "outputs": [
    {
     "data": {
      "text/plain": [
       "'https://www.loc.gov/free-to-use/fish-and-fishing?fo=json'"
      ]
     },
     "execution_count": 35,
     "metadata": {},
     "output_type": "execute_result"
    }
   ],
   "source": [
    "cl = requests.get(url + \"/\" + page, params=parameters)\n",
    "\n",
    "cl.url"
   ]
  },
  {
   "cell_type": "code",
   "execution_count": 36,
   "metadata": {},
   "outputs": [
    {
     "data": {
      "text/plain": [
       "dict_keys(['breadcrumbs', 'content', 'content_is_post', 'description', 'disable_max_line_length', 'expert_resources', 'manifest', 'next', 'next_sibling', 'options', 'pages', 'portal', 'previous', 'previous_sibling', 'site_type', 'timestamp', 'title', 'type'])"
      ]
     },
     "execution_count": 36,
     "metadata": {},
     "output_type": "execute_result"
    }
   ],
   "source": [
    "cl_json = cl.json()\n",
    "cl_json.keys()"
   ]
  },
  {
   "cell_type": "code",
   "execution_count": 37,
   "metadata": {},
   "outputs": [
    {
     "name": "stdout",
     "output_type": "stream",
     "text": [
      "dict_keys(['active', 'description', 'disable_navigation', 'image_url', 'link', 'markup', 'meta_description', 'pagination', 'partof', 'set', 'slug', 'status', 'title', 'url'])\n"
     ]
    }
   ],
   "source": [
    "print(cl_json[\"content\"].keys())"
   ]
  },
  {
   "cell_type": "code",
   "execution_count": 38,
   "metadata": {},
   "outputs": [
    {
     "name": "stdout",
     "output_type": "stream",
     "text": [
      "dict_keys(['items', 'layout'])\n"
     ]
    }
   ],
   "source": [
    "print(cl_json[\"content\"][\"set\"].keys())"
   ]
  },
  {
   "cell_type": "code",
   "execution_count": 39,
   "metadata": {},
   "outputs": [
    {
     "name": "stdout",
     "output_type": "stream",
     "text": [
      "[{'alt': 'Smiling  woman sitting on the ground with a fishing pole and her bare feet dangling over the water.', 'image': '/static/portals/free-to-use/public-domain/fish-and-fishing/fishing-1.jpg', 'link': '/resource/ppmsca.01947/', 'title': 'African American woman fishing at the Tidal Basin, Washington, D.C. Photo by Toni Frissell, 1957.'}, {'alt': 'Pairs of men in several canoes that face into the water rapids.', 'image': '/static/portals/free-to-use/public-domain/fish-and-fishing/fishing-2.jpg', 'link': '/resource/det.4a31696/', 'title': 'Native Americans fishing at the \"Soo,\" St. Mary\\'s Rapids, Sault Ste. Marie. Color print, 1901.\\n'}, {'alt': 'Boy leaning over water fishing with a home-made fishing pole.', 'image': '/static/portals/free-to-use/public-domain/fish-and-fishing/fishing-3.jpg', 'link': '/resource/fsa.8e03362/', 'title': 'Boy fishing. Photo, 1936.'}, {'alt': 'Naked men dive off single-mast sail boats (several with American flags) and retrieve sponges from the sea floor. A numbered key identifies 47 activities shown above and below the water.', 'image': '/static/portals/free-to-use/public-domain/fish-and-fishing/fishing-4.jpg', 'link': '/resource/pga.01210/', 'title': 'Sponge Fishing. Color print, 1897.'}, {'alt': 'Four brown fish swimming near each other, with Japanese characters in the background.', 'image': '/static/portals/free-to-use/public-domain/fish-and-fishing/fishing-5.jpg', 'link': '/resource/jpd.00505/', 'title': 'River trout. Color woodcut by Hiroshige Andō, 1841-1844.'}, {'alt': 'Large building shaped like a fish with its mouth open.', 'image': '/static/portals/free-to-use/public-domain/fish-and-fishing/fishing-6.jpg', 'link': '/resource/mrg.07416/', 'title': 'Big Fish Supper Club, Bena, Minnesota. Color photo by John Margolies, 1980.'}, {'alt': 'A long row of men and women hold a net full of small fish. Sail boats are in the background.', 'image': '/static/portals/free-to-use/public-domain/fish-and-fishing/fishing-7.jpg', 'link': '/resource/ppmsca.41730/', 'title': 'Shad Fishing.  Fishers and Catch. Photo by Bain News Service, 1915.'}, {'alt': 'Seven men standing in a circle in knee-deep water are holding a net under the water.', 'image': '/static/portals/free-to-use/public-domain/fish-and-fishing/fishing-8.jpg', 'link': '/resource/hec.07254/', 'title': 'Net Fishing. Photo by Harris & Ewing, 1909-1923.'}, {'alt': 'Two white cats sticking their paws inside a small round fishbowl, where two goldfish swim.', 'image': '/static/portals/free-to-use/public-domain/fish-and-fishing/fishing-9.jpg', 'link': '/resource/pga.09354/', 'title': 'Little White Kitties:  Fishing. Color print by Currier & Ives, 1871.'}, {'alt': 'Woman in a dress and hat sitting on a dock with a fishing pole.', 'image': '/static/portals/free-to-use/public-domain/fish-and-fishing/fishing-10.jpg', 'link': '/resource/ppmsca.59523/', 'title': 'Fishing. Color print, 1905.'}, {'alt': 'A small boy sits underwater and watches two large fish who are approaching him.', 'image': '/static/portals/free-to-use/public-domain/fish-and-fishing/fishing-11.jpg', 'link': '/resource/ppmsc.05895/', 'title': \"Oh, don't hurt me! cried Tom. I only want to look at you; you are so handsome. Watercolor by Jessie Willcox Smith, 1916, for The Water-Babies book.\"}, {'alt': 'A 5 x 6 color grid illustrating a variety of reptiles and fish.', 'image': '/static/portals/free-to-use/public-domain/fish-and-fishing/fishing-12.jpg', 'link': '/resource/ppmsca.44347/', 'title': 'School and Family Charts ... Fishes. Color poster, 1890.'}, {'alt': 'Man with hat, suspenders and fishing pole poses next to a large fish.  The fish is upright with its tail on the ground and is several feet taller and wider than the man.', 'image': '/static/portals/free-to-use/public-domain/fish-and-fishing/fishing-13.jpg', 'link': '/resource/cph.3b03723/', 'title': \"Edward Llewellen with the World's Record Black Sea Bass, which he caught, (425 lbs.), time 41 min., at Catalina Island, California. Photo by  Ironmonger, 1903.\"}, {'alt': 'Color drawing of a large fish hanging from a string.  50 miniature fish drawings can be seen both on the large fish and elsewhere on the page.', 'image': '/static/portals/free-to-use/public-domain/fish-and-fishing/fishing-14.jpg', 'link': '/resource/ppmsca.09305/', 'title': 'Allen & Ginter, Richmond, Virginia. 50 fish from American waters. You will catch one in each package of Virginia Bright, ... cigarettes. Color poster by Lindner, Eddy & Clauss, lith., N.Y., late-1800s.'}, {'alt': 'Hand-drawn scene shows different types of fish swimming among underwater vegetation.  Beneath the drawing are the words:  \"Visit the Aquarium in Fairmont Park.\"', 'image': '/static/portals/free-to-use/public-domain/fish-and-fishing/fishing-15.jpg', 'link': '/resource/cph.3b49065/', 'title': 'Visit the Aquarium in Fairmount Park, Philadelphia, Pennsylvania Poster by Robert Muchley, 1936 or 1937.'}, {'alt': 'Smiling, seated woman, fishing through a hole in the ice, with buildings in the distant background.', 'image': '/static/portals/free-to-use/public-domain/fish-and-fishing/fishing-16.jpg', 'link': '/resource/ppmsc.02385/', 'title': '\"Tom Kod Peluk,\" Inuit woman ice fishing for tomcod, Nome, Alaska. Photo by Lomen Bros., 1903-1907.'}, {'alt': 'Man sitting on a bucket and fishing through a hole in the ice.', 'image': '/static/portals/free-to-use/public-domain/fish-and-fishing/fishing-17.jpg', 'link': '/resource/ggbain.10041/', 'title': 'Fishing thru ice. Photo by Bain News Service, 1910-1915.'}, {'alt': 'Shirtless man standing high on a cliff, sticking a large spear into the water below.', 'image': '/static/portals/free-to-use/public-domain/fish-and-fishing/fishing-18.jpg', 'link': '/resource/cph.3a47158/', 'title': 'Wishram fisherman, Columbia River. Photo by Edward Curtis, 1910.'}, {'alt': 'Man in white shirt, bow tie, and hat stands next to the ocean with a fish dangling from his hook.  Two similarly dressed youths look on.', 'image': '/static/portals/free-to-use/public-domain/fish-and-fishing/fishing-19.jpg', 'link': '/resource/ppmsca.19492/', 'title': 'Japanese man surf fishing, Belmar, New Jersey. Photo by Bain News Service, about 1908.'}, {'alt': 'Large sign on the beach has the words:  \"Galilee\\'s Annual Events and Tournaments\" along with numerous details regarding the activities.\\'\\n', 'image': '/static/portals/free-to-use/public-domain/fish-and-fishing/fishing-20.jpg', 'link': '/resource/afc1991022.afc1991022_tb_038/?sp=1', 'title': 'Tuna Derby, Galilee, Rhode Island. Color photo by Thomas Burns, 1979. American Folklife Center'}, {'alt': 'Barefoot boy in overalls fishes with a long bamboo rod while an adult man in suspenders watches him.', 'image': '/static/portals/free-to-use/public-domain/fish-and-fishing/fishing-21.jpg', 'link': '/resource/det.4a26655/', 'title': 'Man and boy fishing by shore. Photo by Detroit Publishing Co. 1910-1920.'}, {'alt': 'Young white girl in overalls and a big, floppy hat is sitting on a wood fence and holding a home made fishing pole with two small fish hanging from a hook.', 'image': '/static/portals/free-to-use/public-domain/fish-and-fishing/fishing-22.jpg', 'link': '/resource/cph.3c28076/', 'title': 'Doris Gottscho, holding fish and fishing pole, sitting on a fence. Photo by Samuel Gottscho, 1919 or 1920.'}, {'alt': 'Smiling white, blonde-haired boy, wearing a striped shirt and standing next to the water with a fishing pole.', 'image': '/static/portals/free-to-use/public-domain/fish-and-fishing/fishing-23.jpg', 'link': '/resource/afc1991022.afc1991022_hh_002/?sp=1', 'title': 'Kid fishing, Bonnet Shores, Rhode Island. Photo by Henry Horenstein, 1979. American Folklife Center'}, {'alt': 'Two youths crouch on their knees and extend fishing poles over a narrow water-filled ditch lined with tall grasses at the edge of a field.', 'image': '/static/portals/free-to-use/public-domain/fish-and-fishing/fishing-24.jpg', 'link': '/resource/fsa.8c35824/', 'title': 'African American girl fishing in a ditch, Louisiana Delta Project, Louisiana. Photo by Marion Post Wolcott, 1940.'}, {'alt': 'Three young boys cut fish on a table while an adult man looks on.', 'image': '/static/portals/free-to-use/public-domain/fish-and-fishing/fishing-25.jpg', 'link': '/resource/nclc.00972/', 'title': 'Three young cutters who work in Seacoast Canning Co., Factory #4. Ages 10 to 12. Work regularly, Eastport, Maine. (Sardines) Photo by Lewis Hine, 1911.\\n'}, {'alt': 'Close-up view of fish hooks, line, and hook container.', 'image': '/static/portals/free-to-use/public-domain/fish-and-fishing/fishing-26.jpg', 'link': '/resource/cph.3b03958/', 'title': \"George Washington's Fishing Tackle. Photo by J.A. Anderson, 1906.\"}, {'alt': 'Bearded man in rain jacket smokes a pipe while fixing a fishing net.  An anchor attached to the net rests against building behind the man.', 'image': '/static/portals/free-to-use/public-domain/fish-and-fishing/fishing-27.jpg', 'link': '/resource/det.4a12198/', 'title': 'A Cape Ann fisherman mending his nets, Gloucester, Massachusetts. Photo by Detroit Publishing Co., 1900-1906.'}, {'alt': 'Man in orange overalls prepares to throw a fish at a fish market.', 'image': '/static/portals/free-to-use/public-domain/fish-and-fishing/fishing-28.jpg', 'link': '/resource/highsm.16470/', 'title': '\"Fish thrower\" at the Pike Place Fish Company, Seattle, Washington. Color photo by Carol Highsmith, about 2000.\\n'}, {'alt': 'Two boys hold large, round fruits in front of a roadside stand advertising the sale of fish and \"Honest Weights, Square Dealings.\"', 'image': '/static/portals/free-to-use/public-domain/fish-and-fishing/fishing-29.jpg', 'link': '/resource/fsa.8c52874/', 'title': 'Roadside stand near Birmingham, Alabama. Photo by Walker Evans, 1943.'}, {'alt': 'Fishing trawler with American flag painted on the side, floating on the water.', 'image': '/static/portals/free-to-use/public-domain/fish-and-fishing/fishing-30.jpg', 'link': '/resource/fsa.8c22655/', 'title': 'Fishing Boat. Astoria, Oregon. Photo by Russell Lee, 1941.'}, {'alt': 'A fleet of fishing boats moored on the water with mountains in the background.', 'image': '/static/portals/free-to-use/public-domain/fish-and-fishing/fishing-31.jpg', 'link': '/resource/stereo.1s34429/', 'title': 'Herring Fishing, Norway. Color stereo photograph, about 1900.'}, {'alt': 'Drawing of three people on a boat.  The man talks and holds his hands apart as if indicating the length of a fish while the two women smoke cigarettes and listen.', 'image': '/static/portals/free-to-use/public-domain/fish-and-fishing/fishing-32.jpg', 'link': '/resource/thc.5a36385/', 'title': 'Fishing.  Fish Story. Photo by Theodor Horydczak, 1935.'}, {'alt': 'Two men and one woman pose together with each holding up a fish they have caught.', 'image': '/static/portals/free-to-use/public-domain/fish-and-fishing/fishing-33.jpg', 'link': '/resource/thc.5a36383/', 'title': 'Fishing.  Three fish. Photo by Theodor Horydczak, 1935.'}, {'alt': 'Several fish hang from a string, which has been nailed into a wooden wall.', 'image': '/static/portals/free-to-use/public-domain/fish-and-fishing/fishing-34.jpg', 'link': '/resource/ppmsca.58775/', 'title': 'Fish. Color print, 1898.'}, {'alt': 'Statue of large black catfish standing upright, wearing a shirt with an \"S\" on the front of it like \"Superman.\" ', 'image': '/static/portals/free-to-use/public-domain/fish-and-fishing/fishing-35.jpg', 'link': '/resource/highsm.46917/', 'title': 'A catfish figure in Belzoni, Mississippi, the farm-raised Catfish Capital. Photo by Carol Highsmith, 2017.'}, {'alt': 'Man in tie and white apron displays a large fish, which possesses a long bill and tall dorsal fin.', 'image': '/static/portals/free-to-use/public-domain/fish-and-fishing/fishing-36.jpg', 'link': '/resource/hec.40272/', 'title': 'Sailfish specimen. Photo by Harris & Ewing, 1936'}, {'alt': \"Profile drawing of an entire fish and a separate close-up image of the top of the fish's head.\", 'image': '/static/portals/free-to-use/public-domain/fish-and-fishing/fishing-37.jpg', 'link': '/resource/rbctos.2017gen16152v4/?sp=239', 'title': 'Tetraodon angusticeps (narrow-headed puffer fish). Plate 28 in  volume 4 of \"The Zoology of the voyage of H.M.S. Beagle.\" Book illustration, 1839-1843. Rare Book Division'}, {'alt': 'Color page of book showing two groups of fish. The top illustration shows fish with black stripes on a yellow body. The bottom illustration shows fish with pinkish orange fines.', 'image': '/static/portals/free-to-use/public-domain/fish-and-fishing/fishing-38.jpg', 'link': '/resource/gdcmassbookdig.bookoffishes00nati_0/?sp=196', 'title': 'Sergeant major or Cow pilot (top) and Rainbow parrot fish (bottom). Color illustration by Hashimein Murayama in The Book of Fishes, 1924. General Collections.'}, {'alt': \"Two orange fish swim near the water's surface next to blooming lily pads.\", 'image': '/static/portals/free-to-use/public-domain/fish-and-fishing/fishing-39.jpg', 'link': '/resource/highsm.21033/', 'title': 'Mission San Juan Capistrano, Southern California. Color photo by Carol Highsmith, 2012.'}, {'alt': 'Two women in long dresses throw food to fish in a pool. The fish have gathered near the women.', 'image': '/static/portals/free-to-use/public-domain/fish-and-fishing/fishing-40.jpg', 'link': '/resource/pga.00121/', 'title': 'Feeding the carp, Park at Fontainebleau, Paris, France. Print after the painting by P.C. Comte, 1878.'}, {'alt': 'Portrait of  a woman wearing a fish-shaped object on her head and holding a fish-shaped object in her lap.', 'image': '/static/portals/free-to-use/public-domain/fish-and-fishing/fishing-41.jpg', 'link': '/resource/ppmsca.18646/', 'title': 'Woman wearing a hat shaped like a fish. Photo by Theodore Marceau, 1914.'}, {'alt': 'A smiling woman in a dress and cowboy hat holds up a bundle of fish she has caught to a smiling man in a vest and cowboy hat.', 'image': '/static/portals/free-to-use/public-domain/fish-and-fishing/fishing-42.jpg', 'link': '/resource/var.0092/', 'title': 'The Lost Trail: a comedy drama of western life by Anthony E. Wills. Color theater poster, 1907.'}, {'alt': 'Two boys and a girl stand ankle deep in a pond with fishing poles. The boys taunt a police officer who has confronted them from the shore; the girl looks worried.  Behind them a sign reads:  \"Fishing and Trespassing Prohibited by Law.\"\\n', 'image': '/static/portals/free-to-use/public-domain/fish-and-fishing/fishing-43.jpg', 'link': '/resource/ppmsca.44535/', 'title': 'What are you going to do about it? Color print, 1879.'}, {'alt': 'Man with hat and pipe sits on a crate on a dock fishing while a large dog removes a bottle from his back pocket.', 'image': '/static/portals/free-to-use/public-domain/fish-and-fishing/fishing-44.jpg', 'link': '/resource/cph.3b42820/', 'title': 'The \"Hooch hound\" in action. Photo by National Photo Co., 1922. (Dog trained to detect liquor during prohibition.)\\n'}, {'alt': 'Man stands on the end of a boat with his fishing pole line in the water.  In the background are pine trees and snow-capped mountains.', 'image': '/static/portals/free-to-use/public-domain/fish-and-fishing/fishing-45.jpg', 'link': '/resource/stereo.1s14746/', 'title': \"Mt. Hood (11,225 ft.) one of America's famous mountains, from Lost Lake, Oregon. Stereograph photo by Underwood & Underwood, 1902.\"}, {'alt': 'Silhouette of a person casting into a large body of water with mountains in the background.', 'image': '/static/portals/free-to-use/public-domain/fish-and-fishing/fishing-46.jpg', 'link': '/resource/ds.11694/', 'title': 'The Adventures of today are the memories of tomorrow: National parks. Color poster by Dorothy Waugh, 1930s.'}, {'alt': 'Page of book showing several people crowded into a boat holding spears while a giant creature, many times the size of their boat, swims nearby on top of the water.  The creature has a body and bill like a duck with fins like a fish.', 'image': '/static/portals/free-to-use/public-domain/fish-and-fishing/fishing-47.jpg', 'link': '/resource/cph.3a49776/', 'title': 'A Monstrous Fish. Illustration in Thevet, La Cosmographie universelle ... (Paris, 1575). Rare Book Division'}, {'alt': 'Two couples are anchored in rowboats near each other.  The woman in one boat has hooked a fish that the man is bringing up towards the boat.', 'image': '/static/portals/free-to-use/public-domain/fish-and-fishing/fishing-48.jpg', 'link': '/resource/ppmsca.58753/', 'title': 'Black bass fishing. Color print, 1907.'}, {'alt': 'Color drawing of two men in a canoe; one man has hooked a fish that is being pulled up out of the water.', 'image': '/static/portals/free-to-use/public-domain/fish-and-fishing/fishing-49.jpg', 'link': '/resource/gdclccn.ca06001657v20n1/?sp=5', 'title': 'Field and Stream. Cover illustration by Osborne Mayer, Volume 20, Number 1 (May 1915). General Collections'}, {'alt': 'Print showing a trout with a hook in its mouth jumping out of the water. The text above the trout reads: \"A good Trout Stream without any trout is like the play of Hamlet with Hamlet left out.\"  ', 'image': '/static/portals/free-to-use/public-domain/fish-and-fishing/fishing-50.jpg', 'link': '/resource/ppmsca.39602/', 'title': 'Paradise Brook Trout Co.  Henryville, Pennsylvania. (Trout farm) Color advertisement, mid-1900s.'}]\n"
     ]
    }
   ],
   "source": [
    "print(cl_json[\"content\"][\"set\"][\"items\"])"
   ]
  },
  {
   "cell_type": "code",
   "execution_count": 40,
   "metadata": {},
   "outputs": [
    {
     "data": {
      "text/plain": [
       "dict_keys(['alt', 'image', 'link', 'title'])"
      ]
     },
     "execution_count": 40,
     "metadata": {},
     "output_type": "execute_result"
    }
   ],
   "source": [
    "cl_json[\"content\"][\"set\"][\"items\"][0].keys()"
   ]
  },
  {
   "cell_type": "code",
   "execution_count": 41,
   "metadata": {},
   "outputs": [
    {
     "data": {
      "text/plain": [
       "50"
      ]
     },
     "execution_count": 41,
     "metadata": {},
     "output_type": "execute_result"
    }
   ],
   "source": [
    "len(cl_json['content']['set']['items'])"
   ]
  },
  {
   "cell_type": "markdown",
   "metadata": {},
   "source": [
    "Write CSV File"
   ]
  },
  {
   "cell_type": "code",
   "execution_count": 45,
   "metadata": {},
   "outputs": [],
   "source": [
    "cl_set_list = \"../Jordan/cp2/collection2_set_list.csv\"\n",
    "headers = ['image', 'link', 'title']\n",
    "\n",
    "with open(cl_set_list, mode='w') as file:\n",
    "    writer = csv.writer(file)\n",
    "    writer.writerow(headers)\n",
    "    for item in cl_json['content']['set']['items']:\n",
    "        writer.writerow([item['image'], item['link'], item['title']])"
   ]
  },
  {
   "cell_type": "markdown",
   "metadata": {},
   "source": [
    "Harvesting Metadata"
   ]
  },
  {
   "cell_type": "code",
   "execution_count": 43,
   "metadata": {},
   "outputs": [],
   "source": [
    "def regenerate_cl_csv(collection2_set_list_csv):\n",
    "    cl_items = list()\n",
    "    with open(collection2_set_list_csv, mode='r') as file:\n",
    "        content = csv.DictReader(file)\n",
    "        for row in content:\n",
    "            row_dict = dict()\n",
    "            for field in content.fieldnames:\n",
    "                row_dict[field] = row[field]\n",
    "            cl_items.append(row_dict)\n",
    "        return cl_items"
   ]
  },
  {
   "cell_type": "code",
   "execution_count": 46,
   "metadata": {},
   "outputs": [],
   "source": [
    "collection2_set_list_csv = \"../Jordan/cp2/collection2_set_list.csv\"\n",
    "cl_set_list = regenerate_cl_csv(collection2_set_list_csv)"
   ]
  },
  {
   "cell_type": "code",
   "execution_count": 47,
   "metadata": {},
   "outputs": [
    {
     "data": {
      "text/plain": [
       "{'image': '/static/portals/free-to-use/public-domain/fish-and-fishing/fishing-1.jpg',\n",
       " 'link': '/resource/ppmsca.01947/',\n",
       " 'title': 'African American woman fishing at the Tidal Basin, Washington, D.C. Photo by Toni Frissell, 1957.'}"
      ]
     },
     "execution_count": 47,
     "metadata": {},
     "output_type": "execute_result"
    }
   ],
   "source": [
    "cl_set_list[0]"
   ]
  },
  {
   "cell_type": "markdown",
   "metadata": {},
   "source": [
    "Harvest Individual Item Metadata"
   ]
  },
  {
   "cell_type": "code",
   "execution_count": 48,
   "metadata": {},
   "outputs": [],
   "source": [
    "baseURL= \"https://www.loc.gov\"\n",
    "parameters = {\"fo\" : \"json\"}"
   ]
  },
  {
   "cell_type": "code",
   "execution_count": 49,
   "metadata": {},
   "outputs": [
    {
     "name": "stdout",
     "output_type": "stream",
     "text": [
      "../Jordan/cp2/item-metadata exists\n"
     ]
    }
   ],
   "source": [
    "# run this cell to confirm that you have a location for the JSON files\n",
    "item_metadata_directory = os.path.join('..','Jordan','cp2','item-metadata')\n",
    "\n",
    "if os.path.isdir(item_metadata_directory):\n",
    "    print(item_metadata_directory,'exists')\n",
    "else:\n",
    "    os.mkdir(item_metadata_directory)\n",
    "    print('created',item_metadata_directory)"
   ]
  },
  {
   "cell_type": "code",
   "execution_count": 50,
   "metadata": {},
   "outputs": [
    {
     "data": {
      "text/plain": [
       "50"
      ]
     },
     "execution_count": 50,
     "metadata": {},
     "output_type": "execute_result"
    }
   ],
   "source": [
    "len(cl_set_list)"
   ]
  },
  {
   "cell_type": "code",
   "execution_count": 51,
   "metadata": {},
   "outputs": [
    {
     "name": "stdout",
     "output_type": "stream",
     "text": [
      "requested https://www.loc.gov/resource/ppmsca.01947/?fo=json 200\n",
      "wrote ../Jordan/cp2/item-metadata/item-metadata-ppmsca.01947.json\n",
      "requested https://www.loc.gov/resource/det.4a31696/?fo=json 200\n",
      "wrote ../Jordan/cp2/item-metadata/item-metadata-det.4a31696.json\n",
      "requested https://www.loc.gov/resource/fsa.8e03362/?fo=json 200\n",
      "wrote ../Jordan/cp2/item-metadata/item-metadata-fsa.8e03362.json\n",
      "requested https://www.loc.gov/resource/pga.01210/?fo=json 200\n",
      "wrote ../Jordan/cp2/item-metadata/item-metadata-pga.01210.json\n",
      "requested https://www.loc.gov/resource/jpd.00505/?fo=json 200\n",
      "wrote ../Jordan/cp2/item-metadata/item-metadata-jpd.00505.json\n",
      "requested https://www.loc.gov/resource/mrg.07416/?fo=json 200\n",
      "wrote ../Jordan/cp2/item-metadata/item-metadata-mrg.07416.json\n",
      "requested https://www.loc.gov/resource/ppmsca.41730/?fo=json 200\n",
      "wrote ../Jordan/cp2/item-metadata/item-metadata-ppmsca.41730.json\n",
      "requested https://www.loc.gov/resource/hec.07254/?fo=json 200\n",
      "wrote ../Jordan/cp2/item-metadata/item-metadata-hec.07254.json\n",
      "requested https://www.loc.gov/resource/pga.09354/?fo=json 200\n",
      "wrote ../Jordan/cp2/item-metadata/item-metadata-pga.09354.json\n",
      "requested https://www.loc.gov/resource/ppmsca.59523/?fo=json 200\n",
      "wrote ../Jordan/cp2/item-metadata/item-metadata-ppmsca.59523.json\n",
      "requested https://www.loc.gov/resource/ppmsc.05895/?fo=json 200\n",
      "wrote ../Jordan/cp2/item-metadata/item-metadata-ppmsc.05895.json\n",
      "requested https://www.loc.gov/resource/ppmsca.44347/?fo=json 200\n",
      "wrote ../Jordan/cp2/item-metadata/item-metadata-ppmsca.44347.json\n",
      "requested https://www.loc.gov/resource/cph.3b03723/?fo=json 200\n",
      "wrote ../Jordan/cp2/item-metadata/item-metadata-cph.3b03723.json\n",
      "requested https://www.loc.gov/resource/ppmsca.09305/?fo=json 200\n",
      "wrote ../Jordan/cp2/item-metadata/item-metadata-ppmsca.09305.json\n",
      "requested https://www.loc.gov/resource/cph.3b49065/?fo=json 200\n",
      "wrote ../Jordan/cp2/item-metadata/item-metadata-cph.3b49065.json\n",
      "requested https://www.loc.gov/resource/ppmsc.02385/?fo=json 200\n",
      "wrote ../Jordan/cp2/item-metadata/item-metadata-ppmsc.02385.json\n",
      "requested https://www.loc.gov/resource/ggbain.10041/?fo=json 200\n",
      "wrote ../Jordan/cp2/item-metadata/item-metadata-ggbain.10041.json\n",
      "requested https://www.loc.gov/resource/cph.3a47158/?fo=json 200\n",
      "wrote ../Jordan/cp2/item-metadata/item-metadata-cph.3a47158.json\n",
      "requested https://www.loc.gov/resource/ppmsca.19492/?fo=json 200\n",
      "wrote ../Jordan/cp2/item-metadata/item-metadata-ppmsca.19492.json\n",
      "requested https://www.loc.gov/resource/afc1991022.afc1991022_tb_038/?sp=1&fo=json 200\n",
      "wrote ../Jordan/cp2/item-metadata/item-metadata-afc1991022.afc1991022_tb_038.json\n",
      "requested https://www.loc.gov/resource/det.4a26655/?fo=json 200\n",
      "wrote ../Jordan/cp2/item-metadata/item-metadata-det.4a26655.json\n",
      "requested https://www.loc.gov/resource/cph.3c28076/?fo=json 200\n",
      "wrote ../Jordan/cp2/item-metadata/item-metadata-cph.3c28076.json\n",
      "requested https://www.loc.gov/resource/afc1991022.afc1991022_hh_002/?sp=1&fo=json 200\n",
      "wrote ../Jordan/cp2/item-metadata/item-metadata-afc1991022.afc1991022_hh_002.json\n",
      "requested https://www.loc.gov/resource/fsa.8c35824/?fo=json 200\n",
      "wrote ../Jordan/cp2/item-metadata/item-metadata-fsa.8c35824.json\n",
      "requested https://www.loc.gov/resource/nclc.00972/?fo=json 200\n",
      "wrote ../Jordan/cp2/item-metadata/item-metadata-nclc.00972.json\n",
      "requested https://www.loc.gov/resource/cph.3b03958/?fo=json 200\n",
      "wrote ../Jordan/cp2/item-metadata/item-metadata-cph.3b03958.json\n",
      "requested https://www.loc.gov/resource/det.4a12198/?fo=json 200\n",
      "wrote ../Jordan/cp2/item-metadata/item-metadata-det.4a12198.json\n",
      "requested https://www.loc.gov/resource/highsm.16470/?fo=json 200\n",
      "wrote ../Jordan/cp2/item-metadata/item-metadata-highsm.16470.json\n",
      "requested https://www.loc.gov/resource/fsa.8c52874/?fo=json 200\n",
      "wrote ../Jordan/cp2/item-metadata/item-metadata-fsa.8c52874.json\n",
      "requested https://www.loc.gov/resource/fsa.8c22655/?fo=json 200\n",
      "wrote ../Jordan/cp2/item-metadata/item-metadata-fsa.8c22655.json\n",
      "requested https://www.loc.gov/resource/stereo.1s34429/?fo=json 200\n",
      "wrote ../Jordan/cp2/item-metadata/item-metadata-stereo.1s34429.json\n",
      "requested https://www.loc.gov/resource/thc.5a36385/?fo=json 200\n",
      "wrote ../Jordan/cp2/item-metadata/item-metadata-thc.5a36385.json\n",
      "requested https://www.loc.gov/resource/thc.5a36383/?fo=json 200\n",
      "wrote ../Jordan/cp2/item-metadata/item-metadata-thc.5a36383.json\n",
      "requested https://www.loc.gov/resource/ppmsca.58775/?fo=json 200\n",
      "wrote ../Jordan/cp2/item-metadata/item-metadata-ppmsca.58775.json\n",
      "requested https://www.loc.gov/resource/highsm.46917/?fo=json 200\n",
      "wrote ../Jordan/cp2/item-metadata/item-metadata-highsm.46917.json\n",
      "requested https://www.loc.gov/resource/hec.40272/?fo=json 200\n",
      "wrote ../Jordan/cp2/item-metadata/item-metadata-hec.40272.json\n",
      "requested https://www.loc.gov/resource/rbctos.2017gen16152v4/?sp=239&fo=json 200\n",
      "wrote ../Jordan/cp2/item-metadata/item-metadata-rbctos.2017gen16152v4.json\n",
      "requested https://www.loc.gov/resource/gdcmassbookdig.bookoffishes00nati_0/?sp=196&fo=json 200\n",
      "wrote ../Jordan/cp2/item-metadata/item-metadata-gdcmassbookdig.bookoffishes00nati_0.json\n",
      "requested https://www.loc.gov/resource/highsm.21033/?fo=json 200\n",
      "wrote ../Jordan/cp2/item-metadata/item-metadata-highsm.21033.json\n",
      "requested https://www.loc.gov/resource/pga.00121/?fo=json 200\n",
      "wrote ../Jordan/cp2/item-metadata/item-metadata-pga.00121.json\n",
      "requested https://www.loc.gov/resource/ppmsca.18646/?fo=json 200\n",
      "wrote ../Jordan/cp2/item-metadata/item-metadata-ppmsca.18646.json\n",
      "requested https://www.loc.gov/resource/var.0092/?fo=json 200\n",
      "wrote ../Jordan/cp2/item-metadata/item-metadata-var.0092.json\n",
      "requested https://www.loc.gov/resource/ppmsca.44535/?fo=json 200\n",
      "wrote ../Jordan/cp2/item-metadata/item-metadata-ppmsca.44535.json\n",
      "requested https://www.loc.gov/resource/cph.3b42820/?fo=json 200\n",
      "wrote ../Jordan/cp2/item-metadata/item-metadata-cph.3b42820.json\n",
      "requested https://www.loc.gov/resource/stereo.1s14746/?fo=json 200\n",
      "wrote ../Jordan/cp2/item-metadata/item-metadata-stereo.1s14746.json\n",
      "requested https://www.loc.gov/resource/ds.11694/?fo=json 200\n",
      "wrote ../Jordan/cp2/item-metadata/item-metadata-ds.11694.json\n",
      "requested https://www.loc.gov/resource/cph.3a49776/?fo=json 200\n",
      "wrote ../Jordan/cp2/item-metadata/item-metadata-cph.3a49776.json\n",
      "requested https://www.loc.gov/resource/ppmsca.58753/?fo=json 200\n",
      "wrote ../Jordan/cp2/item-metadata/item-metadata-ppmsca.58753.json\n",
      "requested https://www.loc.gov/resource/gdclccn.ca06001657v20n1/?sp=5&fo=json 200\n",
      "wrote ../Jordan/cp2/item-metadata/item-metadata-gdclccn.ca06001657v20n1.json\n",
      "requested https://www.loc.gov/resource/ppmsca.39602/?fo=json 200\n",
      "wrote ../Jordan/cp2/item-metadata/item-metadata-ppmsca.39602.json\n",
      "--- mini LOG ---\n",
      "items requested: 50\n",
      "errors: 0\n",
      "files written: 50\n"
     ]
    }
   ],
   "source": [
    "item_count = 0\n",
    "error_count = 0\n",
    "file_count = 0\n",
    "\n",
    "parent_directory = 'Jordan'\n",
    "data_directory = 'cp2'\n",
    "item_metadata_directory = 'item-metadata'\n",
    "item_metadata_file_prefix = 'item-metadata'\n",
    "json_suffix = '.json'\n",
    "\n",
    "for item in cl_set_list:\n",
    "    if item['link'] == 'link':\n",
    "        continue\n",
    "    if '?' in item ['link']:\n",
    "        item_id = item['link']\n",
    "        short_id = item['link'].split('/')[2]\n",
    "        item_metadata = requests.get(baseURL + item_id, params=parameters)\n",
    "        print('requested', item_metadata.url, item_metadata.status_code)\n",
    "        if item_metadata.status_code != 200:\n",
    "            print('requested', item_metadata.url, item_metadata.status_code)\n",
    "            error_count += 1\n",
    "            continue\n",
    "        try:\n",
    "            item_metadata.json()\n",
    "        except:\n",
    "            error_count += 1\n",
    "            print ('json not found')\n",
    "            continue\n",
    "        file_out = os.path.join('..', parent_directory, data_directory, item_metadata_directory, str(item_metadata_file_prefix + '-' + short_id + json_suffix))\n",
    "        with open(file_out, 'w', encoding='utf-8') as json_file:\n",
    "            json_file.write(json.dumps(item_metadata.json()['item']))\n",
    "            file_count += 1\n",
    "            print('wrote', file_out)\n",
    "        item_count += 1\n",
    "    else:\n",
    "        item_id = item['link']\n",
    "        short_id = item['link'].split('/')[2]\n",
    "        item_metadata = requests.get(baseURL + item_id, params=parameters)\n",
    "        print('requested', item_metadata.url, item_metadata.status_code)\n",
    "        if item_metadata.status_code != 200:\n",
    "            print('requested', item_metadata.url, item_metadata.status_code)\n",
    "            error_count += 1\n",
    "            continue\n",
    "        try:\n",
    "            item_metadata.json()\n",
    "        except:\n",
    "            error_count += 1\n",
    "            print ('json not found')\n",
    "            continue\n",
    "        file_out = os.path.join('..', parent_directory, data_directory, item_metadata_directory, str(item_metadata_file_prefix + '-' + short_id + json_suffix))\n",
    "        with open(file_out, 'w', encoding='utf-8') as json_file:\n",
    "            json_file.write(json.dumps(item_metadata.json()['item']))\n",
    "            file_count += 1\n",
    "            print('wrote', file_out)\n",
    "        item_count += 1\n",
    "\n",
    "\n",
    "print('--- mini LOG ---')\n",
    "print('items requested:',item_count)\n",
    "print('errors:',error_count)\n",
    "print('files written:',file_count)"
   ]
  },
  {
   "cell_type": "markdown",
   "metadata": {},
   "source": [
    "Harvest Individual Item Images"
   ]
  },
  {
   "cell_type": "code",
   "execution_count": 52,
   "metadata": {},
   "outputs": [
    {
     "name": "stdout",
     "output_type": "stream",
     "text": [
      "Checking for /Users/jrhym/Desktop/Jordan/cp2/img-files\n",
      "Image directory exists\n"
     ]
    }
   ],
   "source": [
    "key_dir = os.path.join('/','Users','jrhym','Desktop')\n",
    "parent_directory = 'Jordan'\n",
    "project_dir = 'cp2'\n",
    "image_dir = 'img-files'\n",
    "metadata_dir = 'item-metadata'\n",
    "\n",
    "img_loc = os.path.join(key_dir, parent_directory, project_dir, image_dir)\n",
    "print('Checking for', img_loc)\n",
    "\n",
    "if os.path.isdir(img_loc):\n",
    "    print('Image directory exists')\n",
    "else:\n",
    "    os.mkdir(img_loc)\n",
    "    print('Created directory for:', img_loc)"
   ]
  },
  {
   "cell_type": "code",
   "execution_count": 53,
   "metadata": {},
   "outputs": [
    {
     "name": "stdout",
     "output_type": "stream",
     "text": [
      "../Jordan/cp2/item-metadata\n",
      "['../Jordan/cp2/item-metadata/item-metadata-highsm.16470.json', '../Jordan/cp2/item-metadata/item-metadata-highsm.46917.json', '../Jordan/cp2/item-metadata/item-metadata-afc1991022.afc1991022_hh_002.json', '../Jordan/cp2/item-metadata/item-metadata-ggbain.10041.json', '../Jordan/cp2/item-metadata/item-metadata-thc.5a36385.json', '../Jordan/cp2/item-metadata/item-metadata-nclc.00972.json', '../Jordan/cp2/item-metadata/item-metadata-hec.40272.json', '../Jordan/cp2/item-metadata/item-metadata-det.4a31696.json', '../Jordan/cp2/item-metadata/item-metadata-cph.3b03723.json', '../Jordan/cp2/item-metadata/item-metadata-ppmsca.58753.json', '../Jordan/cp2/item-metadata/item-metadata-hec.07254.json', '../Jordan/cp2/item-metadata/item-metadata-var.0092.json', '../Jordan/cp2/item-metadata/item-metadata-cph.3b03958.json', '../Jordan/cp2/item-metadata/item-metadata-gdclccn.ca06001657v20n1.json', '../Jordan/cp2/item-metadata/item-metadata-ppmsca.01947.json', '../Jordan/cp2/item-metadata/item-metadata-cph.3b49065.json', '../Jordan/cp2/item-metadata/item-metadata-rbctos.2017gen16152v4.json', '../Jordan/cp2/item-metadata/item-metadata-fsa.8e03362.json', '../Jordan/cp2/item-metadata/item-metadata-ds.11694.json', '../Jordan/cp2/item-metadata/item-metadata-fsa.8c52874.json', '../Jordan/cp2/item-metadata/item-metadata-thc.5a36383.json', '../Jordan/cp2/item-metadata/item-metadata-fsa.8c22655.json', '../Jordan/cp2/item-metadata/item-metadata-stereo.1s14746.json', '../Jordan/cp2/item-metadata/item-metadata-ppmsca.58775.json', '../Jordan/cp2/item-metadata/item-metadata-ppmsca.44347.json', '../Jordan/cp2/item-metadata/item-metadata-pga.00121.json', '../Jordan/cp2/item-metadata/item-metadata-mrg.07416.json', '../Jordan/cp2/item-metadata/item-metadata-ppmsca.59523.json', '../Jordan/cp2/item-metadata/item-metadata-ppmsca.39602.json', '../Jordan/cp2/item-metadata/item-metadata-highsm.21033.json', '../Jordan/cp2/item-metadata/item-metadata-stereo.1s34429.json', '../Jordan/cp2/item-metadata/item-metadata-det.4a26655.json', '../Jordan/cp2/item-metadata/item-metadata-cph.3a49776.json', '../Jordan/cp2/item-metadata/item-metadata-pga.01210.json', '../Jordan/cp2/item-metadata/item-metadata-ppmsca.19492.json', '../Jordan/cp2/item-metadata/item-metadata-pga.09354.json', '../Jordan/cp2/item-metadata/item-metadata-cph.3c28076.json', '../Jordan/cp2/item-metadata/item-metadata-cph.3a47158.json', '../Jordan/cp2/item-metadata/item-metadata-ppmsca.18646.json', '../Jordan/cp2/item-metadata/item-metadata-afc1991022.afc1991022_tb_038.json', '../Jordan/cp2/item-metadata/item-metadata-cph.3b42820.json', '../Jordan/cp2/item-metadata/item-metadata-gdcmassbookdig.bookoffishes00nati_0.json', '../Jordan/cp2/item-metadata/item-metadata-fsa.8c35824.json', '../Jordan/cp2/item-metadata/item-metadata-ppmsca.09305.json', '../Jordan/cp2/item-metadata/item-metadata-ppmsca.44535.json', '../Jordan/cp2/item-metadata/item-metadata-ppmsca.41730.json', '../Jordan/cp2/item-metadata/item-metadata-ppmsc.05895.json', '../Jordan/cp2/item-metadata/item-metadata-det.4a12198.json', '../Jordan/cp2/item-metadata/item-metadata-jpd.00505.json', '../Jordan/cp2/item-metadata/item-metadata-ppmsc.02385.json']\n"
     ]
    }
   ],
   "source": [
    "metadata_hotspot = os.path.join('..', parent_directory, project_dir, metadata_dir)\n",
    "print(metadata_hotspot)\n",
    "\n",
    "metadata_file_list = glob.glob(metadata_hotspot + '/*.json')\n",
    "print(metadata_file_list)"
   ]
  },
  {
   "cell_type": "code",
   "execution_count": 54,
   "metadata": {},
   "outputs": [
    {
     "name": "stdout",
     "output_type": "stream",
     "text": [
      "Identified 50 image URLs\n"
     ]
    }
   ],
   "source": [
    "item_img_url = list()\n",
    "count = 0\n",
    "\n",
    "for file in metadata_file_list:\n",
    "    with open(file, 'r', encoding='utf-8') as json_file:\n",
    "        metadata = json.load(json_file)\n",
    "        img_url_id = len(metadata['image_url'])\n",
    "        img_url = metadata['image_url'][-1]\n",
    "        item_img_url.append(img_url)\n",
    "        count += 1\n",
    "print(f'Identified {str(count)} image URLs')"
   ]
  },
  {
   "cell_type": "code",
   "execution_count": 55,
   "metadata": {},
   "outputs": [
    {
     "data": {
      "text/plain": [
       "['https://tile.loc.gov/image-services/iiif/service:pnp:highsm:16400:16470/full/pct:25/0/default.jpg#h=1207&w=1537',\n",
       " 'https://tile.loc.gov/image-services/iiif/service:pnp:highsm:46900:46917/full/pct:25/0/default.jpg#h=2172&w=1448',\n",
       " 'https://tile.loc.gov/image-services/iiif/service:afc:afc1991022:afc1991022_hh_002:afc1991022_hh_002_02/full/pct:100/0/default.jpg#h=5047&w=3481',\n",
       " 'https://tile.loc.gov/storage-services/service/pnp/ggbain/10000/10041v.jpg#h=738&w=1024',\n",
       " 'https://tile.loc.gov/storage-services/service/pnp/thc/5a36000/5a36300/5a36385r.jpg#h=420&w=537',\n",
       " 'https://tile.loc.gov/storage-services/service/pnp/nclc/00900/00972v.jpg#h=606&w=1024',\n",
       " 'https://tile.loc.gov/storage-services/service/pnp/hec/40200/40272v.jpg#h=793&w=1024',\n",
       " 'https://tile.loc.gov/storage-services/service/pnp/det/4a30000/4a31000/4a31600/4a31696v.jpg#h=530&w=1024',\n",
       " 'https://tile.loc.gov/storage-services/service/pnp/ds/15100/15146v.jpg#h=1024&w=649',\n",
       " 'https://tile.loc.gov/storage-services/service/pnp/ppmsca/58700/58753v.jpg#h=400&w=1024',\n",
       " 'https://tile.loc.gov/storage-services/service/pnp/hec/07200/07254v.jpg#h=758&w=1024',\n",
       " 'https://tile.loc.gov/storage-services/master/pnp/var/0000/0092/0092r.jpg#h=1024&w=528',\n",
       " 'https://tile.loc.gov/storage-services/service/pnp/cph/3b00000/3b03000/3b03900/3b03958r.jpg#h=394&w=640',\n",
       " 'https://tile.loc.gov/image-services/iiif/service:gdc:gdclccn:ca:06:00:16:57:v2:0n:1:ca06001657v20n1:0005/full/pct:100/0/default.jpg#h=3046&w=2253',\n",
       " 'https://tile.loc.gov/storage-services/service/pnp/ppmsca/01900/01947v.jpg#h=1024&w=950',\n",
       " 'https://tile.loc.gov/storage-services/service/pnp/ds/16700/16750v.jpg#h=1024&w=833',\n",
       " 'https://tile.loc.gov/image-services/iiif/service:rbc:rbctos:2017gen16152v1:0001/full/pct:100/0/default.jpg#h=5060&w=3998',\n",
       " 'https://tile.loc.gov/storage-services/service/pnp/fsa/8e03000/8e03300/8e03362v.jpg#h=732&w=1024',\n",
       " 'https://tile.loc.gov/storage-services/service/pnp/ds/11600/11694v.jpg#h=1024&w=711',\n",
       " 'https://tile.loc.gov/storage-services/service/pnp/fsa/8c52000/8c52800/8c52874v.jpg#h=831&w=1024',\n",
       " 'https://tile.loc.gov/storage-services/service/pnp/thc/5a36000/5a36300/5a36383r.jpg#h=420&w=532',\n",
       " 'https://tile.loc.gov/storage-services/service/pnp/fsa/8c22000/8c22600/8c22655v.jpg#h=763&w=1024',\n",
       " 'https://tile.loc.gov/storage-services/service/pnp/stereo/1s10000/1s14000/1s14700/1s14746v.jpg#h=540&w=1024',\n",
       " 'https://tile.loc.gov/storage-services/service/pnp/ppmsca/58700/58775v.jpg#h=1024&w=714',\n",
       " 'https://tile.loc.gov/storage-services/service/pnp/ppmsca/44300/44347v.jpg#h=1024&w=721',\n",
       " 'https://tile.loc.gov/storage-services/service/pnp/pga/00100/00121v.jpg#h=1024&w=743',\n",
       " 'https://tile.loc.gov/storage-services/service/pnp/mrg/07400/07416v.jpg#h=705&w=1024',\n",
       " 'https://tile.loc.gov/storage-services/service/pnp/ppmsca/59500/59523v.jpg#h=1024&w=1010',\n",
       " 'https://tile.loc.gov/storage-services/service/pnp/ppmsca/39600/39602v.jpg#h=1024&w=708',\n",
       " 'https://tile.loc.gov/image-services/iiif/service:pnp:highsm:21000:21033/full/pct:25/0/default.jpg#h=1024&w=1536',\n",
       " 'https://tile.loc.gov/storage-services/service/pnp/stereo/1s30000/1s34000/1s34400/1s34429v.jpg#h=534&w=1024',\n",
       " 'https://tile.loc.gov/storage-services/service/pnp/det/4a20000/4a26000/4a26600/4a26655v.jpg#h=806&w=1024',\n",
       " 'https://tile.loc.gov/storage-services/service/pnp/cph/3a40000/3a49000/3a49700/3a49776r.jpg#h=640&w=410',\n",
       " 'https://tile.loc.gov/storage-services/service/pnp/pga/01200/01210v.jpg#h=801&w=1024',\n",
       " 'https://tile.loc.gov/storage-services/service/pnp/ppmsca/19400/19492v.jpg#h=730&w=1024',\n",
       " 'https://tile.loc.gov/storage-services/service/pnp/pga/09300/09354v.jpg#h=814&w=1024',\n",
       " 'https://tile.loc.gov/storage-services/service/pnp/cph/3c20000/3c28000/3c28000/3c28076v.jpg#h=1024&w=824',\n",
       " 'https://tile.loc.gov/storage-services/service/pnp/ds/15200/15204v.jpg#h=1024&w=771',\n",
       " 'https://tile.loc.gov/storage-services/service/pnp/ppmsca/18600/18646v.jpg#h=1024&w=819',\n",
       " 'https://tile.loc.gov/image-services/iiif/service:afc:afc1991022:afc1991022_tb_038:afc1991022_tb_038_02/full/pct:100/0/default.jpg#h=3425&w=5153',\n",
       " 'https://tile.loc.gov/storage-services/service/pnp/cph/3b40000/3b42000/3b42800/3b42820r.jpg#h=454&w=640',\n",
       " 'https://tile.loc.gov/image-services/iiif/public:gdcmassbookdig:bookoffishes00nati_0:bookoffishes00nati_0_0009/full/pct:100.0/0/default.jpg#h=4671&w=2873',\n",
       " 'https://tile.loc.gov/storage-services/service/pnp/fsa/8c35000/8c35800/8c35824v.jpg#h=787&w=1024',\n",
       " 'https://tile.loc.gov/storage-services/service/pnp/ppmsca/09300/09305v.jpg#h=1024&w=370',\n",
       " 'https://tile.loc.gov/storage-services/service/pnp/ppmsca/44500/44535v.jpg#h=1024&w=867',\n",
       " 'https://tile.loc.gov/storage-services/service/pnp/ppmsca/41700/41730v.jpg#h=745&w=1024',\n",
       " 'https://tile.loc.gov/storage-services/service/pnp/ppmsc/05800/05895v.jpg#h=1024&w=743',\n",
       " 'https://tile.loc.gov/storage-services/service/pnp/det/4a10000/4a12000/4a12100/4a12198v.jpg#h=1024&w=827',\n",
       " 'https://tile.loc.gov/storage-services/service/pnp/jpd/00500/00505v.jpg#h=711&w=1024',\n",
       " 'https://tile.loc.gov/storage-services/service/pnp/ppmsc/02300/02385v.jpg#h=725&w=1024']"
      ]
     },
     "execution_count": 55,
     "metadata": {},
     "output_type": "execute_result"
    }
   ],
   "source": [
    "item_img_url"
   ]
  },
  {
   "cell_type": "code",
   "execution_count": 56,
   "metadata": {},
   "outputs": [
    {
     "name": "stdout",
     "output_type": "stream",
     "text": [
      "{'item_URI': 'http://www.loc.gov/item/2011634663/', 'lccn': '2011634663', 'title': '\"Fish thrower\" at the Pike Place Fish Company, Seattle, Washington', 'image_URL_large': 'https://tile.loc.gov/image-services/iiif/service:pnp:highsm:16400:16470/full/pct:25/0/default.jpg#h=1207&w=1537'}\n"
     ]
    }
   ],
   "source": [
    "cp2_set_list_with_imgs = list()\n",
    "\n",
    "for item in metadata_file_list:\n",
    "    with open(item, 'r', encoding='utf-8') as item_data:\n",
    "        item_metadata = json.load(item_data)\n",
    "\n",
    "        item_metadata_dict = dict()\n",
    "        item_metadata_dict['item_URI'] = item_metadata['id']\n",
    "        try:\n",
    "            item_metadata_dict['lccn'] = item_metadata['library_of_congress_control_number']\n",
    "        except:\n",
    "            item_metadata_dict['lccn'] = None\n",
    "        item_metadata_dict['title'] = item_metadata['title']\n",
    "        item_metadata_dict['image_URL_large'] = item_metadata['image_url'][-1]\n",
    "\n",
    "        cp2_set_list_with_imgs.append(item_metadata_dict)\n",
    "print(cp2_set_list_with_imgs[0])"
   ]
  },
  {
   "cell_type": "code",
   "execution_count": 57,
   "metadata": {},
   "outputs": [
    {
     "name": "stdout",
     "output_type": "stream",
     "text": [
      "... fetching https://tile.loc.gov/image-services/iiif/service:pnp:highsm:16400:16470/full/pct:25/0/default.jpg#h=1207&w=1537\n",
      "Saved /Users/jrhym/Desktop/Jordan/cp2/img-files/img_2011634663.jpg\n",
      "... fetching https://tile.loc.gov/image-services/iiif/service:pnp:highsm:46900:46917/full/pct:25/0/default.jpg#h=2172&w=1448\n",
      "Saved /Users/jrhym/Desktop/Jordan/cp2/img-files/img_2017883639.jpg\n",
      "... fetching https://tile.loc.gov/image-services/iiif/service:afc:afc1991022:afc1991022_hh_002:afc1991022_hh_002_02/full/pct:100/0/default.jpg#h=5047&w=3481\n",
      "Saved /Users/jrhym/Desktop/Jordan/cp2/img-files/img_afc1991022_hh_002.jpg\n",
      "... fetching https://tile.loc.gov/storage-services/service/pnp/ggbain/10000/10041v.jpg#h=738&w=1024\n",
      "Saved /Users/jrhym/Desktop/Jordan/cp2/img-files/img_2014690025.jpg\n",
      "... fetching https://tile.loc.gov/storage-services/service/pnp/thc/5a36000/5a36300/5a36385r.jpg#h=420&w=537\n",
      "Saved /Users/jrhym/Desktop/Jordan/cp2/img-files/img_2019677606.jpg\n",
      "... fetching https://tile.loc.gov/storage-services/service/pnp/nclc/00900/00972v.jpg#h=606&w=1024\n",
      "Saved /Users/jrhym/Desktop/Jordan/cp2/img-files/img_2018676742.jpg\n",
      "... fetching https://tile.loc.gov/storage-services/service/pnp/hec/40200/40272v.jpg#h=793&w=1024\n",
      "Saved /Users/jrhym/Desktop/Jordan/cp2/img-files/img_2016882253.jpg\n",
      "... fetching https://tile.loc.gov/storage-services/service/pnp/det/4a30000/4a31000/4a31600/4a31696v.jpg#h=530&w=1024\n",
      "Saved /Users/jrhym/Desktop/Jordan/cp2/img-files/img_2016794264.jpg\n",
      "... fetching https://tile.loc.gov/storage-services/service/pnp/ds/15100/15146v.jpg#h=1024&w=649\n",
      "Saved /Users/jrhym/Desktop/Jordan/cp2/img-files/img_2004679562.jpg\n",
      "... fetching https://tile.loc.gov/storage-services/service/pnp/ppmsca/58700/58753v.jpg#h=400&w=1024\n",
      "Saved /Users/jrhym/Desktop/Jordan/cp2/img-files/img_2018756565.jpg\n",
      "... fetching https://tile.loc.gov/storage-services/service/pnp/hec/07200/07254v.jpg#h=758&w=1024\n",
      "Saved /Users/jrhym/Desktop/Jordan/cp2/img-files/img_2016853806.jpg\n",
      "... fetching https://tile.loc.gov/storage-services/master/pnp/var/0000/0092/0092r.jpg#h=1024&w=528\n",
      "Saved /Users/jrhym/Desktop/Jordan/cp2/img-files/img_2014635439.jpg\n",
      "... fetching https://tile.loc.gov/storage-services/service/pnp/cph/3b00000/3b03000/3b03900/3b03958r.jpg#h=394&w=640\n",
      "Saved /Users/jrhym/Desktop/Jordan/cp2/img-files/img_2004680240.jpg\n",
      "... fetching https://tile.loc.gov/image-services/iiif/service:gdc:gdclccn:ca:06:00:16:57:v2:0n:1:ca06001657v20n1:0005/full/pct:100/0/default.jpg#h=3046&w=2253\n",
      "Saved /Users/jrhym/Desktop/Jordan/cp2/img-files/img_ca06001657.jpg\n",
      "... fetching https://tile.loc.gov/storage-services/service/pnp/ppmsca/01900/01947v.jpg#h=1024&w=950\n",
      "Saved /Users/jrhym/Desktop/Jordan/cp2/img-files/img_2002716781.jpg\n",
      "... fetching https://tile.loc.gov/storage-services/service/pnp/ds/16700/16750v.jpg#h=1024&w=833\n",
      "Saved /Users/jrhym/Desktop/Jordan/cp2/img-files/img_95514347.jpg\n",
      "... fetching https://tile.loc.gov/image-services/iiif/service:rbc:rbctos:2017gen16152v1:0001/full/pct:100/0/default.jpg#h=5060&w=3998\n",
      "Saved /Users/jrhym/Desktop/Jordan/cp2/img-files/img_06016152.jpg\n",
      "... fetching https://tile.loc.gov/storage-services/service/pnp/fsa/8e03000/8e03300/8e03362v.jpg#h=732&w=1024\n",
      "Saved /Users/jrhym/Desktop/Jordan/cp2/img-files/img_2017760122.jpg\n",
      "... fetching https://tile.loc.gov/storage-services/service/pnp/ds/11600/11694v.jpg#h=1024&w=711\n",
      "Saved /Users/jrhym/Desktop/Jordan/cp2/img-files/img_2001696163.jpg\n",
      "... fetching https://tile.loc.gov/storage-services/service/pnp/fsa/8c52000/8c52800/8c52874v.jpg#h=831&w=1024\n",
      "Saved /Users/jrhym/Desktop/Jordan/cp2/img-files/img_2017762372.jpg\n",
      "... fetching https://tile.loc.gov/storage-services/service/pnp/thc/5a36000/5a36300/5a36383r.jpg#h=420&w=532\n",
      "Saved /Users/jrhym/Desktop/Jordan/cp2/img-files/img_2019677603.jpg\n",
      "... fetching https://tile.loc.gov/storage-services/service/pnp/fsa/8c22000/8c22600/8c22655v.jpg#h=763&w=1024\n",
      "Saved /Users/jrhym/Desktop/Jordan/cp2/img-files/img_2017815959.jpg\n",
      "... fetching https://tile.loc.gov/storage-services/service/pnp/stereo/1s10000/1s14000/1s14700/1s14746v.jpg#h=540&w=1024\n",
      "Saved /Users/jrhym/Desktop/Jordan/cp2/img-files/img_2018650607.jpg\n",
      "... fetching https://tile.loc.gov/storage-services/service/pnp/ppmsca/58700/58775v.jpg#h=1024&w=714\n",
      "Saved /Users/jrhym/Desktop/Jordan/cp2/img-files/img_2018756323.jpg\n",
      "... fetching https://tile.loc.gov/storage-services/service/pnp/ppmsca/44300/44347v.jpg#h=1024&w=721\n",
      "Saved /Users/jrhym/Desktop/Jordan/cp2/img-files/img_2018694999.jpg\n",
      "... fetching https://tile.loc.gov/storage-services/service/pnp/pga/00100/00121v.jpg#h=1024&w=743\n",
      "Saved /Users/jrhym/Desktop/Jordan/cp2/img-files/img_93511167.jpg\n",
      "... fetching https://tile.loc.gov/storage-services/service/pnp/mrg/07400/07416v.jpg#h=705&w=1024\n",
      "Saved /Users/jrhym/Desktop/Jordan/cp2/img-files/img_2017709508.jpg\n",
      "... fetching https://tile.loc.gov/storage-services/service/pnp/ppmsca/59500/59523v.jpg#h=1024&w=1010\n",
      "Saved /Users/jrhym/Desktop/Jordan/cp2/img-files/img_2018757264.jpg\n",
      "... fetching https://tile.loc.gov/storage-services/service/pnp/ppmsca/39600/39602v.jpg#h=1024&w=708\n",
      "Saved /Users/jrhym/Desktop/Jordan/cp2/img-files/img_2015651504.jpg\n",
      "... fetching https://tile.loc.gov/image-services/iiif/service:pnp:highsm:21000:21033/full/pct:25/0/default.jpg#h=1024&w=1536\n",
      "Saved /Users/jrhym/Desktop/Jordan/cp2/img-files/img_2013630461.jpg\n",
      "... fetching https://tile.loc.gov/storage-services/service/pnp/stereo/1s30000/1s34000/1s34400/1s34429v.jpg#h=534&w=1024\n",
      "Saved /Users/jrhym/Desktop/Jordan/cp2/img-files/img_2021638404.jpg\n",
      "... fetching https://tile.loc.gov/storage-services/service/pnp/det/4a20000/4a26000/4a26600/4a26655v.jpg#h=806&w=1024\n",
      "Saved /Users/jrhym/Desktop/Jordan/cp2/img-files/img_2016816667.jpg\n",
      "... fetching https://tile.loc.gov/storage-services/service/pnp/cph/3a40000/3a49000/3a49700/3a49776r.jpg#h=640&w=410\n",
      "Saved /Users/jrhym/Desktop/Jordan/cp2/img-files/img_2006687139.jpg\n",
      "... fetching https://tile.loc.gov/storage-services/service/pnp/pga/01200/01210v.jpg#h=801&w=1024\n",
      "Saved /Users/jrhym/Desktop/Jordan/cp2/img-files/img_2003666909.jpg\n",
      "... fetching https://tile.loc.gov/storage-services/service/pnp/ppmsca/19400/19492v.jpg#h=730&w=1024\n",
      "Saved /Users/jrhym/Desktop/Jordan/cp2/img-files/img_2006688514.jpg\n",
      "... fetching https://tile.loc.gov/storage-services/service/pnp/pga/09300/09354v.jpg#h=814&w=1024\n",
      "Saved /Users/jrhym/Desktop/Jordan/cp2/img-files/img_2002708594.jpg\n",
      "... fetching https://tile.loc.gov/storage-services/service/pnp/cph/3c20000/3c28000/3c28000/3c28076v.jpg#h=1024&w=824\n",
      "Saved /Users/jrhym/Desktop/Jordan/cp2/img-files/img_2018751046.jpg\n",
      "... fetching https://tile.loc.gov/storage-services/service/pnp/ds/15200/15204v.jpg#h=1024&w=771\n",
      "Saved /Users/jrhym/Desktop/Jordan/cp2/img-files/img_2002722469.jpg\n",
      "... fetching https://tile.loc.gov/storage-services/service/pnp/ppmsca/18600/18646v.jpg#h=1024&w=819\n",
      "Saved /Users/jrhym/Desktop/Jordan/cp2/img-files/img_2008678730.jpg\n",
      "... fetching https://tile.loc.gov/image-services/iiif/service:afc:afc1991022:afc1991022_tb_038:afc1991022_tb_038_02/full/pct:100/0/default.jpg#h=3425&w=5153\n",
      "Saved /Users/jrhym/Desktop/Jordan/cp2/img-files/img_afc1991022_tb_038.jpg\n",
      "... fetching https://tile.loc.gov/storage-services/service/pnp/cph/3b40000/3b42000/3b42800/3b42820r.jpg#h=454&w=640\n",
      "Saved /Users/jrhym/Desktop/Jordan/cp2/img-files/img_89709365.jpg\n",
      "... fetching https://tile.loc.gov/image-services/iiif/public:gdcmassbookdig:bookoffishes00nati_0:bookoffishes00nati_0_0009/full/pct:100.0/0/default.jpg#h=4671&w=2873\n",
      "Saved /Users/jrhym/Desktop/Jordan/cp2/img-files/img_24027800.jpg\n",
      "... fetching https://tile.loc.gov/storage-services/service/pnp/fsa/8c35000/8c35800/8c35824v.jpg#h=787&w=1024\n",
      "Saved /Users/jrhym/Desktop/Jordan/cp2/img-files/img_2017803080.jpg\n",
      "... fetching https://tile.loc.gov/storage-services/service/pnp/ppmsca/09300/09305v.jpg#h=1024&w=370\n",
      "Saved /Users/jrhym/Desktop/Jordan/cp2/img-files/img_94508288.jpg\n",
      "... fetching https://tile.loc.gov/storage-services/service/pnp/ppmsca/44500/44535v.jpg#h=1024&w=867\n",
      "Saved /Users/jrhym/Desktop/Jordan/cp2/img-files/img_2018695185.jpg\n",
      "... fetching https://tile.loc.gov/storage-services/service/pnp/ppmsca/41700/41730v.jpg#h=745&w=1024\n",
      "Saved /Users/jrhym/Desktop/Jordan/cp2/img-files/img_2016647797.jpg\n",
      "... fetching https://tile.loc.gov/storage-services/service/pnp/ppmsc/05800/05895v.jpg#h=1024&w=743\n",
      "Saved /Users/jrhym/Desktop/Jordan/cp2/img-files/img_2010718114.jpg\n",
      "... fetching https://tile.loc.gov/storage-services/service/pnp/det/4a10000/4a12000/4a12100/4a12198v.jpg#h=1024&w=827\n",
      "Saved /Users/jrhym/Desktop/Jordan/cp2/img-files/img_2016804519.jpg\n",
      "... fetching https://tile.loc.gov/storage-services/service/pnp/jpd/00500/00505v.jpg#h=711&w=1024\n",
      "Saved /Users/jrhym/Desktop/Jordan/cp2/img-files/img_2009615476.jpg\n",
      "... fetching https://tile.loc.gov/storage-services/service/pnp/ppmsc/02300/02385v.jpg#h=725&w=1024\n",
      "Saved /Users/jrhym/Desktop/Jordan/cp2/img-files/img_99615133.jpg\n",
      "--- mini LOG ---\n",
      "files requested: 50\n",
      "errors: 0\n",
      "files written: 50\n"
     ]
    }
   ],
   "source": [
    "item_count = 0\n",
    "error_count = 0\n",
    "file_count = 0\n",
    "\n",
    "img_file_prefix = 'img_'\n",
    "\n",
    "for item in cp2_set_list_with_imgs:\n",
    "    img_url = item['image_URL_large']\n",
    "    short_id = item['item_URI'].split('/')[-2]\n",
    "    print('... fetching', img_url)\n",
    "    item_count += 1\n",
    "\n",
    "    r = requests.get(img_url)\n",
    "    if r.status_code == 200:\n",
    "        img_out = os.path.join(img_loc,str(img_file_prefix + short_id + '.jpg'))\n",
    "        with open(img_out, 'wb') as img_file:\n",
    "            img_file.write(r.content)\n",
    "            print('Saved', img_out)\n",
    "            file_count += 1\n",
    "\n",
    "print('--- mini LOG ---')\n",
    "print('files requested:',item_count)\n",
    "print('errors:',error_count)\n",
    "print('files written:',file_count)\n"
   ]
  }
 ],
 "metadata": {
  "kernelspec": {
   "display_name": "Python 3",
   "language": "python",
   "name": "python3"
  },
  "language_info": {
   "codemirror_mode": {
    "name": "ipython",
    "version": 3
   },
   "file_extension": ".py",
   "mimetype": "text/x-python",
   "name": "python",
   "nbconvert_exporter": "python",
   "pygments_lexer": "ipython3",
   "version": "3.11.5"
  }
 },
 "nbformat": 4,
 "nbformat_minor": 2
}
