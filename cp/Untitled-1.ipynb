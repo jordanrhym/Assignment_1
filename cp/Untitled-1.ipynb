{
 "cells": [
  {
   "cell_type": "code",
   "execution_count": 3,
   "metadata": {},
   "outputs": [],
   "source": [
    "import json\n",
    "from os.path import join\n"
   ]
  },
  {
   "cell_type": "code",
   "execution_count": 14,
   "metadata": {},
   "outputs": [
    {
     "name": "stdout",
     "output_type": "stream",
     "text": [
      "{\n",
      "  \"_version_\": 1731714874606616576,\n",
      "  \"access_restricted\": false,\n",
      "  \"aka\": [\n",
      "    \"https://www.loc.\n"
     ]
    }
   ],
   "source": [
    "with open(join('..','CP', 'item-metadata','item-metadata-cph.3b41963.json'), encoding='utf-8') as file:\n",
    "    metadata = json.load(file)\n",
    "\n",
    "print(json.dumps(metadata, indent=2)[:100])"
   ]
  },
  {
   "cell_type": "code",
   "execution_count": 15,
   "metadata": {},
   "outputs": [
    {
     "name": "stdout",
     "output_type": "stream",
     "text": [
      "call_number :\t SSF - Libraries--Georgia--Cordele <item> [P&P]\n",
      "control_number :\t 91787443\n",
      "created :\t 2016-04-21T09:17:00Z\n",
      "created_published :\t [ca. 1916]\n",
      "created_published_date :\t [ca. 1916]\n",
      "date :\t [ca. 1916]\n",
      "digital_id :\t ['cph 3b41963 //hdl.loc.gov/loc.pnp/cph.3b41963']\n",
      "display_offsite :\t True\n",
      "format :\t ['still image']\n",
      "formats :\t [{'link': 'https://www.loc.gov/pictures/related/?fi=format&q=Photographic%20prints--1910-1920.&co=cph', 'title': 'Photographic prints--1910-1920.'}]\n",
      "genre :\t ['Photographic prints--1910-1920']\n",
      "id :\t 91787443\n",
      "link :\t https://www.loc.gov/pictures/item/91787443/\n",
      "location :\t ['Georgia--Cordele']\n",
      "marc :\t https://www.loc.gov/pictures/item/91787443/marc/\n",
      "medium :\t ['1 photographic print.']\n",
      "medium_brief :\t 1 photographic print.\n",
      "mediums :\t ['1 photographic print.']\n",
      "modified :\t 2016-04-21T09:17:00Z\n",
      "notes :\t ['At bottom right of photo: \"Cordele Book Co.\"', 'Wittemann Collection.']\n",
      "number_former_id :\t ['https://www.loc.gov/item/91787443', 'https://www.loc.gov/item/11583075']\n",
      "other_control_numbers :\t ['11583075']\n",
      "place :\t [{'latitude': '', 'link': 'https://www.loc.gov/pictures/related/?fi=place&q=Georgia--Cordele&co=cph', 'longitude': '', 'title': 'Georgia--Cordele'}]\n",
      "reproduction_number :\t LC-USZ62-95830 (b&w film copy neg.)\n",
      "resource_links :\t ['//hdl.loc.gov/loc.pnp/cph.3b41963']\n",
      "rights_advisory :\t No known restrictions on publication.\n",
      "rights_information :\t No known restrictions on publication.\n",
      "service_low :\t https://tile.loc.gov/storage-services/service/pnp/cph/3b40000/3b41000/3b41900/3b41963_150px.jpg\n",
      "service_medium :\t https://tile.loc.gov/storage-services/service/pnp/cph/3b40000/3b41000/3b41900/3b41963r.jpg\n",
      "sort_date :\t 1916\n",
      "source_created :\t 1991-08-22T00:00:00Z\n",
      "source_modified :\t 2012-06-14T21:04:56Z\n",
      "subject_headings :\t ['Libraries--Georgia--Cordele--1910-1920.', 'Georgia--Cordele']\n",
      "subjects :\t ['Libraries--Georgia--Cordele--1910-1920']\n",
      "summary :\t Photo shows a group of children posed on and in front of steps, roof and dome draped with stars and stripes banners. A Carnegie grant for $10,000 in 1903 funded this building, with an  additional $7,556 in 1916 for remodeling. Still used as a public library.\n",
      "thumb_gallery :\t https://tile.loc.gov/storage-services/service/pnp/cph/3b40000/3b41000/3b41900/3b41963_150px.jpg\n",
      "title :\t Carnegie Library, Cordele, Georgia\n"
     ]
    }
   ],
   "source": [
    "for attribute in metadata['item'].items():\n",
    "    print(attribute[0], ':\\t', attribute[1])"
   ]
  },
  {
   "cell_type": "code",
   "execution_count": 17,
   "metadata": {},
   "outputs": [],
   "source": [
    "metadata_fields_file = join('..','CP','metadata_fields.txt')\n",
    "\n",
    "with open(metadata_fields_file, 'w') as f:\n",
    "    f.write('attribute\\tvalue\\n')\n",
    "    for attribute in metadata['item'].items():\n",
    "        f.write(str(attribute[0]) + '\\t' + str(attribute[1]) + '\\n')"
   ]
  },
  {
   "cell_type": "code",
   "execution_count": 18,
   "metadata": {},
   "outputs": [
    {
     "name": "stdout",
     "output_type": "stream",
     "text": [
      "{\n",
      "  \"_version_\": 1782466457766985728,\n",
      "  \"access_restricted\": false,\n",
      "  \"aka\": [\n",
      "    \"https://www.loc.\n"
     ]
    }
   ],
   "source": [
    "with open(join('..','CP', 'item-metadata','item-metadata-hhh.dc0121.photos.json'), encoding='utf-8') as file:\n",
    "    metadata = json.load(file)\n",
    "\n",
    "print(json.dumps(metadata, indent=2)[:100])"
   ]
  },
  {
   "cell_type": "code",
   "execution_count": 20,
   "metadata": {},
   "outputs": [
    {
     "name": "stdout",
     "output_type": "stream",
     "text": [
      "call_number :\t HABS DC,GEO,118-\n",
      "contributor_names :\t ['Smithmeyer & Pelz,  ', 'Price, Virginia B, transmitter ', 'Boucher, Jack E, photographer ']\n",
      "control_number :\t dc0121\n",
      "created :\t 2016-04-16T06:38:31Z\n",
      "created_published :\t Documentation compiled after 1933\n",
      "created_published_date :\t Documentation compiled after 1933\n",
      "creators :\t [{'link': 'https://www.loc.gov/pictures/related/?fi=name&q=Historic%20American%20Buildings%20Survey&co=hh', 'role': 'creator', 'title': 'Historic American Buildings Survey'}, {'link': 'https://www.loc.gov/pictures/related/?fi=name&q=Smithmeyer%20%26%20Pelz&co=hh', 'role': '', 'title': 'Smithmeyer & Pelz'}, {'link': 'https://www.loc.gov/pictures/related/?fi=name&q=Price%2C%20Virginia%20B&co=hh', 'role': 'transmitter', 'title': 'Price, Virginia B'}, {'link': 'https://www.loc.gov/pictures/related/?fi=name&q=Boucher%2C%20Jack%20E&co=hh', 'role': 'photographer', 'title': 'Boucher, Jack E'}]\n",
      "display_offsite :\t True\n",
      "id :\t dc0121\n",
      "link :\t https://www.loc.gov/pictures/item/dc0121/\n",
      "medium_brief :\t Photo(s): 42, Color Transparencies: 1, Data Page(s): 43, Photo Caption Page(s): 1\n",
      "mediums :\t ['Photo(s): 42 ', 'Color Transparencies: 1 ', 'Data Page(s): 43 ', 'Photo Caption Page(s): 1 ']\n",
      "modified :\t 2023-10-21T00:36:54Z\n",
      "notes :\t ['Significance: Healy Building is the most prominent structure on the University campus and a picturesque landmark for all Georgetown.  Its construction marked the evolution of the school toward true University status.  It was designed by the architects Smithmeyer and Pelz, who also designed the Library of Congress.   ', 'Survey number: HABS DC-248 ', 'Building/structure dates: 1877 Initial Construction ', 'National Register of Historic Places NRIS Number: 67000025 ']\n",
      "other_title :\t ['Georgetown']\n",
      "part_of :\t Historic American Buildings Survey (Library of Congress)\n",
      "part_of_group :\t Survey Number dc0121\n",
      "place :\t [{'latitude': '', 'link': 'https://www.loc.gov/pictures/related/?fi=place&q=District%20of%20Columbia--District%20of%20Columbia--Washington&co=hh', 'longitude': '', 'title': 'District of Columbia -- District of Columbia -- Washington'}]\n",
      "raw_collections :\t ['diof', 'hh', 'survey']\n",
      "repository :\t Library of Congress Prints and Photographs Division Washington,      D.C. 20540 USA http://hdl.loc.gov/loc.pnp/pp.print\n",
      "resource_links :\t ['https://tile.loc.gov/storage-services/master/pnp/habshaer/dc/dc0100/dc0121/data/dc0121data.pdf', 'https://tile.loc.gov/storage-services/master/pnp/habshaer/dc/dc0100/dc0121/supp/dc0121supp.pdf', 'https://www.loc.gov:8081/pictures/search/?q=Photograph: dc0121&fi=number&op=PHRASE&va=exact&co =hh&st=gallery&sg = true']\n",
      "rights_advisory :\t No known restrictions on images made by the U.S. Government; images     copied from other sources may be restricted.    https://www.loc.gov/rr/print/res/114_habs.html\n",
      "rights_information :\t No known restrictions on images made by the U.S. Government; images     copied from other sources may be restricted.    https://www.loc.gov/rr/print/res/114_habs.html\n",
      "service_low :\t https://tile.loc.gov/storage-services/service/pnp/habshaer/dc/dc0100/dc0121/color/376695c_150px.jpg?q=dc0121.color.376695c&c=43&st=gallery\n",
      "service_medium :\t https://tile.loc.gov/storage-services/service/pnp/habshaer/dc/dc0100/dc0121/color/376695cr.jpg?q=dc0121.color.376695c&c=43&st=gallery\n",
      "source_created :\t 1970-01-01T00:00:00Z\n",
      "source_modified :\t 2016-04-16T06:38:00Z\n",
      "subject_headings :\t ['educational facilities', 'stone buildings', 'education', 'colleges\\n\\n', 'District Of Columbia -- District Of Columbia -- Washington']\n",
      "thumb_gallery :\t https://tile.loc.gov/storage-services/service/pnp/habshaer/dc/dc0100/dc0121/color/376695c_150px.jpg?q=dc0121.color.376695c&c=43&st=gallery\n",
      "title :\t Georgetown University, Healy Building, Thirty-seventh & O Streets, Northwest, Washington, District of Columbia, DC\n"
     ]
    }
   ],
   "source": [
    "for attribute in metadata['item'].items():\n",
    "    print(attribute[0], ':\\t', attribute[1])"
   ]
  },
  {
   "cell_type": "code",
   "execution_count": 21,
   "metadata": {},
   "outputs": [
    {
     "name": "stdout",
     "output_type": "stream",
     "text": [
      "{\n",
      "  \"_version_\": 1730912616429125632,\n",
      "  \"access_restricted\": false,\n",
      "  \"aka\": [\n",
      "    \"https://www.loc.\n"
     ]
    }
   ],
   "source": [
    "with open(join('..','CP', 'item-metadata','item-metadata-highsm.50410.json'), encoding='utf-8') as file:\n",
    "    metadata = json.load(file)\n",
    "\n",
    "print(json.dumps(metadata, indent=2)[:100])"
   ]
  },
  {
   "cell_type": "code",
   "execution_count": 22,
   "metadata": {},
   "outputs": [
    {
     "name": "stdout",
     "output_type": "stream",
     "text": [
      "call_number :\t LC-DIG-highsm- 50410 (ONLINE) [P&P]\n",
      "contributors :\t ['Highsmith, Carol M., 1946- photographer.']\n",
      "control_number :\t 2018698612\n",
      "created :\t 2022-03-08T06:17:40Z\n",
      "created_published :\t 2018-05-13.\n",
      "created_published_date :\t 2018-05-13.\n",
      "creators :\t [{'link': 'https://www.loc.gov/pictures/related/?fi=name&q=Highsmith%2C%20Carol%20M.%2C%201946-&co=highsm', 'role': 'photographer', 'title': 'Highsmith, Carol M., 1946-'}]\n",
      "date :\t 2018-05-13.\n",
      "digital_id :\t ['highsm 50410 https://hdl.loc.gov/loc.pnp/highsm.50410']\n",
      "display_offsite :\t True\n",
      "format :\t ['still image']\n",
      "formats :\t [{'link': 'https://www.loc.gov/pictures/related/?fi=format&q=Digital%20photographs--Color--2010-2020.&co=highsm', 'title': 'Digital photographs--Color--2010-2020.'}]\n",
      "genre :\t ['Digital photographs--Color--2010-2020']\n",
      "id :\t 2018698612\n",
      "language :\t ['eng']\n",
      "link :\t https://www.loc.gov/pictures/item/2018698612/\n",
      "marc :\t https://www.loc.gov/pictures/item/2018698612/marc/\n",
      "medium :\t ['1 photograph : digital, tiff file, color.']\n",
      "medium_brief :\t 1 photograph :\n",
      "mediums :\t ['1 photograph : digital, tiff file, color.']\n",
      "modified :\t 2022-03-08T06:17:43Z\n",
      "notes :\t ['Title, date and keywords based on information provided by the photographer.', 'Original caption spelled location as Skynomish.', 'Purchase; Carol M. Highsmith Photography, Inc.; 2018; (DLC/PP-2016:103-13)', \"Forms part of Carol M. Highsmith's America Project in the Carol M. Highsmith Archive.\", 'Credit line: Photographs in the Carol M. Highsmith Archive, Library of Congress, Prints and Photographs Division.']\n",
      "other_control_numbers :\t ['21036193']\n",
      "part_of :\t Highsmith, Carol M., 1946- Carol M. Highsmith Archive.\n",
      "place :\t [{'latitude': '', 'link': 'https://www.loc.gov/pictures/related/?fi=place&q=Washington%20%28State%29--King%20County--Skykomish&co=highsm', 'longitude': '', 'title': 'Washington (State)--King County--Skykomish'}]\n",
      "raw_collections :\t ['diof', 'highsm', 'pp']\n",
      "repository :\t Library of Congress Prints and Photographs Division Washington, D.C. 20540 USA https://hdl.loc.gov/loc.pnp/pp.print\n",
      "reproduction_number :\t LC-DIG-highsm-50410 (original digital file)\n",
      "resource_links :\t ['https://hdl.loc.gov/loc.pnp/highsm.50410']\n",
      "rights_advisory :\t No known restrictions on publication.\n",
      "rights_information :\t No known restrictions on publication.\n",
      "service_low :\t https://tile.loc.gov/storage-services/service/pnp/highsm/50400/50410_150px.jpg\n",
      "service_medium :\t https://tile.loc.gov/storage-services/service/pnp/highsm/50400/50410r.jpg\n",
      "sort_date :\t 2018\n",
      "source_collection :\t ['Highsmith, Carol M., 1946- Carol M. Highsmith Archive.']\n",
      "source_created :\t 2018-01-31T00:00:00Z\n",
      "source_modified :\t 2022-03-01T14:54:45Z\n",
      "subject_headings :\t ['United States--Washington (State)--King County--Skykomish.', 'America', 'Skykomish Public Library', 'libraries', 'Wenatchee National Forest', 'Washington (State)--King County--Skykomish']\n",
      "subjects :\t ['United States--Washington (State)--King County--Skykomish', 'America', 'Skykomish Public Library', 'Libraries', 'Wenatchee National Forest']\n",
      "thumb_gallery :\t https://tile.loc.gov/storage-services/service/pnp/highsm/50400/50410_150px.jpg\n",
      "title :\t You wouldn't guess that this is a public library, but it is, in the little Wenatchee National Forest town of [Skykomish], Washington\n"
     ]
    }
   ],
   "source": [
    "for attribute in metadata['item'].items():\n",
    "    print(attribute[0], ':\\t', attribute[1])"
   ]
  },
  {
   "cell_type": "code",
   "execution_count": 23,
   "metadata": {},
   "outputs": [
    {
     "name": "stdout",
     "output_type": "stream",
     "text": [
      "call_number :\t Unprocessed in PR 13 CN 1990:175 (CGL28673.18.1) [item] [P&P]\n",
      "contributors :\t ['Ross, Albert Randolph, 1869-1948, architect.']\n",
      "control_number :\t 96514755\n",
      "created :\t 2018-07-03T06:02:14Z\n",
      "created_published :\t [1903 or earlier]\n",
      "created_published_date :\t [1903 or earlier]\n",
      "creators :\t [{'link': 'https://www.loc.gov/pictures/related/?fi=name&q=Ross%2C%20Albert%20Randolph%2C%201869-1948&co=cph', 'role': 'architect', 'title': 'Ross, Albert Randolph, 1869-1948'}]\n",
      "date :\t [1903 or earlier]\n",
      "digital_id :\t ['ppmsca 35590 //hdl.loc.gov/loc.pnp/ppmsca.35590', 'cph 3g04712 //hdl.loc.gov/loc.pnp/cph.3g04712', 'cph 3j00120 //hdl.loc.gov/loc.pnp/cph.3j00120']\n",
      "display_offsite :\t True\n",
      "format :\t ['still image']\n",
      "formats :\t [{'link': 'https://www.loc.gov/pictures/related/?fi=format&q=Architectural%20drawings--1900-1910.&co=cph', 'title': 'Architectural drawings--1900-1910.'}, {'link': 'https://www.loc.gov/pictures/related/?fi=format&q=Elevations--1900-1910.&co=cph', 'title': 'Elevations--1900-1910.'}]\n",
      "genre :\t ['Elevations--1900-1910', 'Architectural drawings--1900-1910']\n",
      "id :\t 96514755\n",
      "link :\t https://www.loc.gov/pictures/item/96514755/\n",
      "location :\t ['Massachusetts--Taunton']\n",
      "marc :\t https://www.loc.gov/pictures/item/96514755/marc/\n",
      "medium :\t ['1 drawing : graphite and watercolor ; 41.8 x 68.5 cm (sheet)']\n",
      "medium_brief :\t 1 drawing :\n",
      "mediums :\t ['1 drawing : graphite and watercolor ; 41.8 x 68.5 cm (sheet)']\n",
      "modified :\t 2018-07-03T06:02:14Z\n",
      "notes :\t ['Title devised by Library staff.', 'Published in: Eyes of the nation : a visual history of the United States / Vincent Virga and curators of the Library of Congress ; historical commentary by Alan Brinkley. New York : Knopf, 1997, p. 219.', 'Exhibited: American Treasures of the Library of Congress, Washington, D.C., 2003-2004.', 'Exhibited: \"Andrew Carnegie : The Legacy That Changed the World\" at The Scottish Parliament, Main Hall, Edinburgh, Scotland, October 2013 - January 2014.', 'Unprocessed in PR 13 CN 1990:175 (CGL28673.18.1).']\n",
      "number_former_id :\t ['https://www.loc.gov/item/96514755', 'https://www.loc.gov/item/11678958']\n",
      "other_control_numbers :\t ['11678958']\n",
      "place :\t [{'latitude': '', 'link': 'https://www.loc.gov/pictures/related/?fi=place&q=Massachusetts--Taunton&co=cph', 'longitude': '', 'title': 'Massachusetts--Taunton'}]\n",
      "repository :\t Library of Congress Prints and Photographs Division Washington, D.C. 20540 USA http://hdl.loc.gov/loc.pnp/pp.print\n",
      "reproduction_number :\t LC-DIG-ppmsca-35590 (digital file from original drawing)\n",
      "LC-USZC4-4712 (color film copy transparency)\n",
      "LC-USZCN4-120 (color film copy neg.)\n",
      "resource_links :\t ['//hdl.loc.gov/loc.pnp/ppmsca.35590', '//hdl.loc.gov/loc.pnp/cph.3g04712', '//hdl.loc.gov/loc.pnp/cph.3j00120']\n",
      "rights_advisory :\t No known restrictions on publication.\n",
      "rights_information :\t No known restrictions on publication.\n",
      "service_low :\t https://tile.loc.gov/storage-services/service/pnp/ppmsca/35500/35590_150px.jpg\n",
      "service_medium :\t https://tile.loc.gov/storage-services/service/pnp/ppmsca/35500/35590r.jpg\n",
      "sort_date :\t 1903\n",
      "source_created :\t 1996-07-29T00:00:00Z\n",
      "source_modified :\t 2018-06-29T20:06:46Z\n",
      "subject_headings :\t ['Libraries--Massachusetts--Taunton--1900-1910.', 'Massachusetts--Taunton']\n",
      "subjects :\t ['Libraries--Massachusetts--Taunton--1900-1910']\n",
      "summary :\t Front elevation of library building, Taunton, Mass., built in 1903 The inscriptions on the building, \"Open Free to All\" and \"Bibliotheca Fons Eruditionis\" (The Library is a fountain of learning) reflect the importance of public libraries to their communities. Ross specialized in library design and had completed buildings in at least 12 cities by 1906. \"This design demonstrates his ability to achieve monumental effect in a structure of modest size.\" (Source: Eyes of the nation) The Carnegie grant given in 1902 provided $70,000.\n",
      "thumb_gallery :\t https://tile.loc.gov/storage-services/service/pnp/ppmsca/35500/35590_150px.jpg\n",
      "title :\t [Carnegie library, (Taunton, Mass.). Elevation]\n"
     ]
    }
   ],
   "source": [
    "with open(join('..','CP', 'item-metadata','item-metadata-ppmsca.35590.json'), encoding='utf-8') as file:\n",
    "    metadata = json.load(file)\n",
    "\n",
    "for attribute in metadata['item'].items():\n",
    "    print(attribute[0], ':\\t', attribute[1])"
   ]
  },
  {
   "cell_type": "code",
   "execution_count": null,
   "metadata": {},
   "outputs": [],
   "source": []
  },
  {
   "cell_type": "code",
   "execution_count": 24,
   "metadata": {},
   "outputs": [],
   "source": [
    "import csv\n",
    "import json\n",
    "\n",
    "# for working with local files\n",
    "import glob\n",
    "import os\n",
    "from os.path import join"
   ]
  },
  {
   "cell_type": "code",
   "execution_count": null,
   "metadata": {},
   "outputs": [],
   "source": []
  }
 ],
 "metadata": {
  "kernelspec": {
   "display_name": "Python 3",
   "language": "python",
   "name": "python3"
  },
  "language_info": {
   "codemirror_mode": {
    "name": "ipython",
    "version": 3
   },
   "file_extension": ".py",
   "mimetype": "text/x-python",
   "name": "python",
   "nbconvert_exporter": "python",
   "pygments_lexer": "ipython3",
   "version": "3.11.5"
  }
 },
 "nbformat": 4,
 "nbformat_minor": 2
}
