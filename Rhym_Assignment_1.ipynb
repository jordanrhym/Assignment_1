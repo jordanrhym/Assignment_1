{
 "cells": [
  {
   "cell_type": "markdown",
   "metadata": {},
   "source": [
    "Import Code"
   ]
  },
  {
   "cell_type": "code",
   "execution_count": 1,
   "metadata": {},
   "outputs": [],
   "source": [
    "import csv\n",
    "import json\n",
    "import requests\n",
    "import os\n",
    "from os.path import join\n",
    "import glob"
   ]
  },
  {
   "cell_type": "markdown",
   "metadata": {},
   "source": [
    "\n",
    "Collection List URL Build\n"
   ]
  },
  {
   "cell_type": "code",
   "execution_count": 2,
   "metadata": {},
   "outputs": [],
   "source": [
    "url = \"https://www.loc.gov/free-to-use\"\n",
    "page = \"libraries\"\n",
    "parameters = {\"fo\" : \"json\"}"
   ]
  },
  {
   "cell_type": "code",
   "execution_count": 3,
   "metadata": {},
   "outputs": [],
   "source": [
    "cl = requests.get(url + \"/\" + page, params=parameters)"
   ]
  },
  {
   "cell_type": "code",
   "execution_count": 4,
   "metadata": {},
   "outputs": [
    {
     "data": {
      "text/plain": [
       "'https://www.loc.gov/free-to-use/libraries?fo=json'"
      ]
     },
     "execution_count": 4,
     "metadata": {},
     "output_type": "execute_result"
    }
   ],
   "source": [
    "cl.url"
   ]
  },
  {
   "cell_type": "markdown",
   "metadata": {},
   "source": [
    "Generating / Finding JSON Information"
   ]
  },
  {
   "cell_type": "code",
   "execution_count": 5,
   "metadata": {},
   "outputs": [
    {
     "data": {
      "text/plain": [
       "dict_keys(['breadcrumbs', 'content', 'content_is_post', 'description', 'disable_max_line_length', 'expert_resources', 'manifest', 'next', 'next_sibling', 'options', 'pages', 'portal', 'previous', 'previous_sibling', 'site_type', 'timestamp', 'title', 'type'])"
      ]
     },
     "execution_count": 5,
     "metadata": {},
     "output_type": "execute_result"
    }
   ],
   "source": [
    "cl_json = cl.json()\n",
    "cl_json.keys()"
   ]
  },
  {
   "cell_type": "code",
   "execution_count": 6,
   "metadata": {},
   "outputs": [
    {
     "name": "stdout",
     "output_type": "stream",
     "text": [
      "dict_keys(['active', 'description', 'disable_navigation', 'image_url', 'link', 'markup', 'meta_description', 'pagination', 'partof', 'set', 'slug', 'status', 'title', 'url'])\n"
     ]
    }
   ],
   "source": [
    "print(cl_json[\"content\"].keys())"
   ]
  },
  {
   "cell_type": "code",
   "execution_count": 7,
   "metadata": {},
   "outputs": [
    {
     "name": "stdout",
     "output_type": "stream",
     "text": [
      "dict_keys(['items', 'layout'])\n"
     ]
    }
   ],
   "source": [
    "print(cl_json[\"content\"][\"set\"].keys())"
   ]
  },
  {
   "cell_type": "code",
   "execution_count": 8,
   "metadata": {},
   "outputs": [
    {
     "name": "stdout",
     "output_type": "stream",
     "text": [
      "[{'image': '/static/portals/free-to-use/public-domain/libraries/libraries-1.jpg', 'link': '/resource/cph.3f05183/', 'title': 'For greater knowledge, on more subjects, use your library more often. Illinois WPA Arts Project, 1936-1941. Prints & Photographs Division'}, {'image': '/static/portals/free-to-use/public-domain/libraries/libraries-2.jpg', 'link': '/resource/highsm.20336/', 'title': 'Noyes Library for Young Children. Kensington, Maryland. Photo by Carol M. Highsmith,  2011. Prints & Photographs Division'}, {'image': '/static/portals/free-to-use/public-domain/libraries/libraries-3.jpg', 'link': '/resource/fsa.8d24709/', 'title': 'Bethune-Cookman College. Students in the library reading room, Daytona Beach, Florida. Gordon Parks, 1943. Prints & Photographs Division'}, {'image': '/static/portals/free-to-use/public-domain/libraries/libraries-4.jpg', 'link': '/resource/highsm.36052/', 'title': 'Public library in Antonito,  Colorado, near the New Mexico border. Photo by Carol M. Highsmith, 2015. Prints & Photographs Division'}, {'image': '/static/portals/free-to-use/public-domain/libraries/libraries-5.jpg', 'link': '/resource/highsm.51772/', 'title': 'Library and Innovation Center in New Castle, Delaware, defines itself as \"a community learning and resource hub.\" Photo by Carol M. Highsmith, 2018. Prints & Photographs Division\\n'}, {'image': '/static/portals/free-to-use/public-domain/libraries/libraries-6.jpg', 'link': '/resource/cph.3b43255/', 'title': 'Silence. Lithograph by Mabel Dwight, 1939. Prints & Photographs Division'}, {'image': '/static/portals/free-to-use/public-domain/libraries/libraries-7.jpg', 'link': '/resource/highsm.20483/', 'title': 'Patterson Park Branch of the Enoch Pratt Free Library System. Photo by Carol M. Highsmith, 2011. Prints & Photographs Division'}, {'image': '/static/portals/free-to-use/public-domain/libraries/libraries-8.jpg', 'link': '/resource/highsm.29207/', 'title': 'The easily identifiable J. Erik Jonsson Central Library, Dallas, Texas. Photo by Carol M. Highsmith, 2014. Prints & Photographs Division'}, {'image': '/static/portals/free-to-use/public-domain/libraries/libraries-9.jpg', 'link': '/resource/fsa.8b32222/', 'title': 'Public library in the southwestern section of Mississippi, in the piney woods. Photo by Dorothea Lange, 1937. Prints & Photographs Division'}, {'image': '/static/portals/free-to-use/public-domain/libraries/libraries-10.jpg', 'link': '/resource/highsm.64003/', 'title': '\"Bookmobile\" bus belonging to the Perry County Public Library in Hazard, Kentucky. Photo by Carol M. Highsmith, 2020. Prints & Photographs Division\\n'}, {'image': '/static/portals/free-to-use/public-domain/libraries/libraries-11.jpg', 'link': '/resource/ppmsca.15412/', 'title': \"Creating the first fully developed children's department in 1899 is one of the historic milestones claimed by the Pittsburgh, Pennsylvania, Carnegie Library. Photo, 1900-1905. Prints & Photographs Division\\n\"}, {'image': '/static/portals/free-to-use/public-domain/libraries/libraries-12.jpg', 'link': '/resource/highsm.49335/', 'title': 'Even a sculpted gila monster appears to be into reading near a Little Free Library in the Dunbar Spring neighborhood of Tucson, Arizona. Photo by Carol M. Highsmith, 2018. Prints & Photographs Division'}, {'image': '/static/portals/free-to-use/public-domain/libraries/libraries-13.jpg', 'link': '/resource/highsm.20497/', 'title': 'Handley Library, Winchester, Virginia. Photo by Carol M. Highsmith, 2011. Prints & Photographs Division'}, {'image': '/static/portals/free-to-use/public-domain/libraries/libraries-14.jpg', 'link': '/resource/npcc.28724/', 'title': 'Reading room for the blind, Library of Congress, Washington, DC. By National Photo Co., 1919 or 1920. Prints & Photographs Division'}, {'image': '/static/portals/free-to-use/public-domain/libraries/libraries-15.jpg', 'link': '/resource/ds.06560/', 'title': 'Main public library building, Detroit, Michigan. Cass Gilbert, architect. Postcard by Albertype Co., 1921-1930. Prints & Photographs Division'}, {'image': '/static/portals/free-to-use/public-domain/libraries/libraries-16.jpg', 'link': '/resource/hhh.hi0135.photos', 'title': \"Mother Marianne Library, Moloka'i Island, Kalaupapa, Kalawao County, Hawaii. Photo by Jack Boucher, 1991. Historic American Buildings Survey. Prints & Photographs Division\"}, {'image': '/static/portals/free-to-use/public-domain/libraries/libraries-17.jpg', 'link': '/resource/cph.3f05168/', 'title': 'Curb service, 10,000 current books, convenient, free, time saving : Chicago Public Library, Randolph St. corridor. Illinois WPA Art Project, 1936-1941. Prints & Photographs Division\\n'}, {'image': '/static/portals/free-to-use/public-domain/libraries/libraries-18.jpg', 'link': '/resource/ppmsca.15375/', 'title': 'Reading Room, Billings Memorial Library, University of Vermont, Burlington, Vermont. H.H. Richardson, architect. Photo, approx. 1890. Prints & Photographs Division'}, {'image': '/static/portals/free-to-use/public-domain/libraries/libraries-19.jpg', 'link': '/resource/highsm.53335/', 'title': 'Library. Herbert Hoover Federal Building in Washington, D.C. Photo by Carol M. Highsmith, 2018. Prints & Photographs Division'}, {'image': '/static/portals/free-to-use/public-domain/libraries/libraries-20.jpg', 'link': '/resource/hhh.ks0072.photos/?sp=2', 'title': 'Paola Free Library, Paola, Kansas. Photo by Dan Collins, 1984. Historic American Buildings Survey. Prints & Photographs Division'}, {'image': '/static/portals/free-to-use/public-domain/libraries/libraries-21.jpg', 'link': '/resource/highsm.34640/', 'title': 'The Guernsey Branch Library, in Guernsey, Wyoming. Photo by Carol M. Highsmith, 2015. Prints & Photographs Division'}, {'image': '/static/portals/free-to-use/public-domain/libraries/libraries-22.jpg', 'link': '/resource/ppmsca.17588/', 'title': 'Library of Congress when it was located in the U.S. Capitol. Copy of watercolor by William Bengough, 1897. Prints & Photographs Division'}, {'image': '/static/portals/free-to-use/public-domain/libraries/libraries-23.jpg', 'link': '/resource/ppmsca.18016/', 'title': 'Library of Congress, Washington. By Detroit Publishing Co., 1902. Prints & Photographs Division'}, {'image': '/static/portals/free-to-use/public-domain/libraries/libraries-24.jpg', 'link': '/resource/hhh.me0057.photos/?sp=1', 'title': 'Hubbard Free Library, Hallowell, Kennebec County, Maine. Copy of photo from approx. 1880. Historic American Buildings Survey. Prints & Photographs Division'}, {'image': '/static/portals/free-to-use/public-domain/libraries/libraries-25.jpg', 'link': '/resource/highsm.41101/', 'title': 'Modernist stairway and bookstacks inside the Allen County Public Library, Fort Wayne, Indiana. Photo by Carol M. Highsmith, 2016. Prints & Photographs Division'}, {'image': '/static/portals/free-to-use/public-domain/libraries/libraries-26.jpg', 'link': '/resource/det.4a17925/', 'title': 'Cossitt Library, Memphis, Tennessee. Photo by Detroit Publishing Co., 1906. Prints & Photographs Division'}, {'image': '/static/portals/free-to-use/public-domain/libraries/libraries-27.jpg', 'link': '/resource/ppmsca.15426/', 'title': 'Main entrance. Boston Public Library. Massachusetts. 1895. Prints & Photographs Division'}, {'image': '/static/portals/free-to-use/public-domain/libraries/libraries-28.jpg', 'link': '/resource/ppmscd.00084/', 'title': 'Interior view of library reading room with male and female students sitting at tables, reading, at the Tuskegee Institute, Alabama. Photo by Frances B. Johnston, approx. 1902. Prints & Photographs Division'}, {'image': '/static/portals/free-to-use/public-domain/libraries/libraries-29.jpg', 'link': '/resource/highsm.18384/', 'title': 'George Peabody Library, Johns Hopkins University, Baltimore, Maryland. Photo by Carol M.  Highsmith, 2012. Prints & Photographs Division'}, {'image': '/static/portals/free-to-use/public-domain/libraries/libraries-30.jpg', 'link': '/resource/g3851e.ct006252/', 'title': 'Map of Libraries, Washington, D.C. Library of Congress, 1926. Geography & Map Division'}, {'image': '/static/portals/free-to-use/public-domain/libraries/libraries-31.jpg', 'link': '/resource/ppmsca.35590/', 'title': '\"Open Free to All\" is carved over the door of the Carnegie Public Library in Taunton, Massachusetts. Drawing by Albert R. Ross, approx. 1903. Prints & Photographs Division\\n'}, {'image': '/static/portals/free-to-use/public-domain/libraries/libraries-32.jpg', 'link': '/resource/hhh.il0998.sheet/?sp=1', 'title': 'Paxton Carnegie Library, Paxton, Illinois. Drawing, 2011. Historic American Buildings Survey. Prints & Photographs Division'}, {'image': '/static/portals/free-to-use/public-domain/libraries/libraries-33.jpg', 'link': '/resource/hhh.ok0012.sheet/?sp=8&q=hhh.ok0012', 'title': 'Carnegie Library, Guthrie, Oklahoma. Cross section drawing, 1973. Historic American Buildings Survey. Prints & Photographs Division'}, {'image': '/static/portals/free-to-use/public-domain/libraries/libraries-34.jpg', 'link': '/resource/hhh.sc0767.photos/?sp=1', 'title': 'Carnegie Free Library, Union, South Carolina. Photo by Jack Boucher, 1987. Historic American Buildings Survey. Prints & Photographs Division'}, {'image': '/static/portals/free-to-use/public-domain/libraries/libraries-35.jpg', 'link': '/resource/hhh.nj0089.photos/?sp=4', 'title': 'Princeton University, Library, Princeton, New Jersey. Photo by Jack Boucher, 1964. Historic American Buildings Survey. Prints & Photographs Division'}, {'image': '/static/portals/free-to-use/public-domain/libraries/libraries-36.jpg', 'link': '/resource/highsm.31350/', 'title': 'Public library in Shepherdstown, West Virginia. Photo by Carol M. Highsmith, 2015. Prints & Photographs Division'}, {'image': '/static/portals/free-to-use/public-domain/libraries/libraries-37.jpg', 'link': '/resource/hhh.ri0071.photos/?sp=8', 'title': 'Redwood Library, Newport, Rhode Island. Photo by Cervin Robinson, 1970. Historic American Buildings Survey. Prints & Photographs Division'}, {'image': '/static/portals/free-to-use/public-domain/libraries/libraries-38.jpg', 'link': '/resource/highsm.48241/', 'title': 'Cook Memorial Library, the public library of Tamworth, New Hampshire. Photo by Carol M. Highsmith, 2017. Prints & Photographs Division'}, {'image': '/static/portals/free-to-use/public-domain/libraries/libraries-39.jpg', 'link': '/resource/det.4a23603/', 'title': 'Little Rock Public Library, Little Rock, Arkansas. Photo by Detroit Publishing Co., approx. 1910. Prints & Photographs Division'}, {'image': '/static/portals/free-to-use/public-domain/libraries/libraries-40.jpg', 'link': '/resource/highsm.04362/', 'title': 'Public Library, Salt Lake City, Utah. Photo by Carol M. Highsmith, 2007. Prints & Photographs Division'}, {'image': '/static/portals/free-to-use/public-domain/libraries/libraries-41.jpg', 'link': '/resource/hhh.dc0121.photos/?sp=24', 'title': 'Riggs Library, Georgetown University, Washington, DC. Historic American Buildings Survey. 1969. Prints & Photographs Division'}, {'image': '/static/portals/free-to-use/public-domain/libraries/libraries-42.jpg', 'link': '/resource/ppbd.00600/', 'title': \"The People's Library, set up by the Occupy Wall Street protest movement in Zuccotti Park, New York City. Photo by Teri Sierra, 2011. Prints & Photographs Division\\n\"}, {'image': '/static/portals/free-to-use/public-domain/libraries/libraries-43.jpg', 'link': '/resource/fsa.8b14169/', 'title': 'Newspaper reading room of public library. Omaha, Nebraska. Photo by John Vachon, 1938. Prints & Photographs Division'}, {'image': '/static/portals/free-to-use/public-domain/libraries/libraries-44.jpg', 'link': '/resource/highsm.32720/', 'title': 'Dusk view, Rawlings Public Library, Pueblo, Colorado. Photo by Carol M. Highsmith, 2015. Prints & Photographs Division'}, {'image': '/static/portals/free-to-use/public-domain/libraries/libraries-45.jpg', 'link': '/resource/fsa.8c22565/', 'title': 'Library tent at the Farm Security Administration mobile camp for migratory farm workers, Odell, Oregon. Photo by Russell Lee, 1941. Prints & Photographs Division'}, {'image': '/static/portals/free-to-use/public-domain/libraries/libraries-46.jpg', 'link': '/resource/mrg.00785/', 'title': 'Parmly Billings Library (Western Heritage Center), Billings, Montana. Photo by John Margolies, 2004. Prints & Photographs Division'}, {'image': '/static/portals/free-to-use/public-domain/libraries/libraries-47.jpg', 'link': '/resource/hhh.ak0345.photos/?sp=2', 'title': 'Juneau Public Library, Juneau, Alaska. Photo by Jet Lowe, 1991. Historic American Buildings Survey. Prints & Photographs Division'}, {'image': '/static/portals/free-to-use/public-domain/libraries/libraries-48.jpg', 'link': '/resource/highsm.43863/', 'title': 'Historic library in the North Carolina Capitol in Raleigh. Photo by Carol M. Highsmith, 2017. Prints & Photographs Division'}, {'image': '/static/portals/free-to-use/public-domain/libraries/libraries-49.jpg', 'link': '/resource/highsm.42123/', 'title': \"An upright polar bear in Cincinnati, Ohio, not at the zoo, since it's stuffed, but at Cincinnati's main library. Photo by Carol M. Highsmith, 2016. Prints & Photographs Division\\n\"}, {'image': '/static/portals/free-to-use/public-domain/libraries/libraries-50.jpg', 'link': '/resource/cph.3c18157/', 'title': 'Carnegie Library, Sheldon, Iowa. 1909. Prints & Photographs Division'}, {'image': '/static/portals/free-to-use/public-domain/libraries/libraries-51.jpg', 'link': '/resource/ds.06507/', 'title': \"Buffalo, New York, Public library. Children's room. Photo by Levin C. Handy, approx. 1900. Prints & Photographs Division\\n\"}, {'image': '/static/portals/free-to-use/public-domain/libraries/libraries-52.jpg', 'link': '/resource/highsm.24333/', 'title': 'Tower of the Central Library, Los Angeles, California. Photo by Carol M. Highsmith, 2013. Prints & Photographs Division'}, {'image': '/static/portals/free-to-use/public-domain/libraries/libraries-53.jpg', 'link': '/resource/mrg.00788/', 'title': 'Library, Dickason Street, Columbus, Wisconsin. Photo by John Margolies, 2008. Prints & Photographs Division'}, {'image': '/static/portals/free-to-use/public-domain/libraries/libraries-54.jpg', 'link': '/resource/highsm.20216/', 'title': 'Norfolk Library, Norfolk, Connecticut. Photo by Carol M. Highsmith, 2011. Prints & Photographs Division'}, {'image': '/static/portals/free-to-use/public-domain/libraries/libraries-55.jpg', 'link': '/resource/cph.3b41963/', 'title': 'Carnegie Library, Cordele, Georgia. Photo, approx. 1916. Prints & Photographs Division'}, {'image': '/static/portals/free-to-use/public-domain/libraries/libraries-56.jpg', 'link': '/resource/mrg.00432/', 'title': 'Nampa Public Library, Nampa, Idaho. Photo by John Margolies, 2004. Prints & Photographs Division'}, {'image': '/static/portals/free-to-use/public-domain/libraries/libraries-57.jpg', 'link': '/resource/cph.3b39859/', 'title': 'Louisiana Industrial Institute and College Library with students reading, Ruston, Louisiana. Photo, 1900-1920. Prints & Photographs Division'}, {'image': '/static/portals/free-to-use/public-domain/libraries/libraries-58.jpg', 'link': '/resource/highsm.60215/', 'title': 'The public library, with a creative book-themed facade, in Houston, Minnesota. Photo by Carol Highsmith, 2019. Prints & Photographs Division'}, {'image': '/static/portals/free-to-use/public-domain/libraries/libraries-59.jpg', 'link': '/resource/ppmsca.15419/', 'title': 'Book room, Carnegie library, St. Joseph, Missouri. Photo, 1900-1905. Prints & Photographs Division'}, {'image': '/static/portals/free-to-use/public-domain/libraries/libraries-60.jpg', 'link': '/resource/highsm.50410/', 'title': \"You wouldn't guess that this is a public library, but it is, in Skynomish, Washington. Photo by Carol M. Highsmith, 2018. Prints & Photographs Division\\n\"}, {'image': '/static/portals/free-to-use/public-domain/libraries/libraries-61.jpg', 'link': '/resource/hhh.nv0134.photos', 'title': 'Library (C425), looking SW - Hawthorne Naval Ammunition Depot, Babbitt Housing Area, Hawthorne, Nevada. Photo by Joe C. Freeman, 1992. Historic American Buildings Survey. Prints & Photographs Division'}, {'image': '/static/portals/free-to-use/public-domain/libraries/libraries-62.jpg', 'link': '/resource/highsm.18402', 'title': 'Interior of the Hutzler Reading room located in Gilman Hall, Johns Hopkins University, Baltimore, Maryland. Photo by Carol M. Highsmith, 2012. Prints & Photographs Division'}]\n"
     ]
    }
   ],
   "source": [
    "print(cl_json[\"content\"][\"set\"][\"items\"])"
   ]
  },
  {
   "cell_type": "code",
   "execution_count": 9,
   "metadata": {},
   "outputs": [
    {
     "data": {
      "text/plain": [
       "dict_keys(['image', 'link', 'title'])"
      ]
     },
     "execution_count": 9,
     "metadata": {},
     "output_type": "execute_result"
    }
   ],
   "source": [
    "cl_json[\"content\"][\"set\"][\"items\"][0].keys()"
   ]
  },
  {
   "cell_type": "code",
   "execution_count": 10,
   "metadata": {},
   "outputs": [
    {
     "data": {
      "text/plain": [
       "62"
      ]
     },
     "execution_count": 10,
     "metadata": {},
     "output_type": "execute_result"
    }
   ],
   "source": [
    "len(cl_json['content']['set']['items'])"
   ]
  },
  {
   "cell_type": "markdown",
   "metadata": {},
   "source": [
    "Writing CSV File"
   ]
  },
  {
   "cell_type": "code",
   "execution_count": 11,
   "metadata": {},
   "outputs": [],
   "source": [
    "cl_set_list = \"../Jordan/cp/collection_set_list.csv\"\n",
    "headers = ['image', 'link', 'title']\n",
    "\n",
    "with open(cl_set_list, mode='w') as file:\n",
    "    writer = csv.writer(file)\n",
    "    writer.writerow(headers)\n",
    "    for item in cl_json['content']['set']['items']:\n",
    "        writer.writerow([item['image'], item['link'], item['title']])"
   ]
  },
  {
   "cell_type": "markdown",
   "metadata": {},
   "source": [
    "Harvesting Metadata"
   ]
  },
  {
   "cell_type": "code",
   "execution_count": 12,
   "metadata": {},
   "outputs": [],
   "source": [
    "def regenerate_cl_csv(collection_set_list_csv):\n",
    "    cl_items = list()\n",
    "    with open(collection_set_list_csv, mode='r') as file:\n",
    "        content = csv.DictReader(file)\n",
    "        for row in content:\n",
    "            row_dict = dict()\n",
    "            for field in content.fieldnames:\n",
    "                row_dict[field] = row[field]\n",
    "            cl_items.append(row_dict)\n",
    "        return cl_items\n"
   ]
  },
  {
   "cell_type": "code",
   "execution_count": 13,
   "metadata": {},
   "outputs": [],
   "source": [
    "collection_set_list_csv = \"../Jordan/cp/collection_set_list.csv\"\n",
    "cl_set_list = regenerate_cl_csv(collection_set_list_csv)"
   ]
  },
  {
   "cell_type": "code",
   "execution_count": 14,
   "metadata": {},
   "outputs": [
    {
     "data": {
      "text/plain": [
       "{'image': '/static/portals/free-to-use/public-domain/libraries/libraries-1.jpg',\n",
       " 'link': '/resource/cph.3f05183/',\n",
       " 'title': 'For greater knowledge, on more subjects, use your library more often. Illinois WPA Arts Project, 1936-1941. Prints & Photographs Division'}"
      ]
     },
     "execution_count": 14,
     "metadata": {},
     "output_type": "execute_result"
    }
   ],
   "source": [
    "cl_set_list[0]"
   ]
  },
  {
   "cell_type": "markdown",
   "metadata": {},
   "source": [
    "Harvest Individual Item Metadata"
   ]
  },
  {
   "cell_type": "code",
   "execution_count": 15,
   "metadata": {},
   "outputs": [],
   "source": [
    "baseURL= \"https://www.loc.gov\"\n",
    "parameters = {\"fo\" : \"json\"}"
   ]
  },
  {
   "cell_type": "code",
   "execution_count": 16,
   "metadata": {},
   "outputs": [
    {
     "name": "stdout",
     "output_type": "stream",
     "text": [
      "../Jordan/cp/item-metadata exists\n"
     ]
    }
   ],
   "source": [
    "# run this cell to confirm that you have a location for the JSON files\n",
    "item_metadata_directory = os.path.join('..','Jordan','cp','item-metadata')\n",
    "\n",
    "if os.path.isdir(item_metadata_directory):\n",
    "    print(item_metadata_directory,'exists')\n",
    "else:\n",
    "    os.mkdir(item_metadata_directory)\n",
    "    print('created',item_metadata_directory)"
   ]
  },
  {
   "cell_type": "code",
   "execution_count": 17,
   "metadata": {},
   "outputs": [
    {
     "data": {
      "text/plain": [
       "62"
      ]
     },
     "execution_count": 17,
     "metadata": {},
     "output_type": "execute_result"
    }
   ],
   "source": [
    "len(cl_set_list)"
   ]
  },
  {
   "cell_type": "code",
   "execution_count": 18,
   "metadata": {},
   "outputs": [
    {
     "name": "stdout",
     "output_type": "stream",
     "text": [
      "requested https://www.loc.gov/resource/cph.3f05183/?fo=json 200\n",
      "wrote ../Jordan/cp/item-metadata/item-metadata-cph.3f05183.json\n",
      "requested https://www.loc.gov/resource/highsm.20336/?fo=json 200\n",
      "wrote ../Jordan/cp/item-metadata/item-metadata-highsm.20336.json\n",
      "requested https://www.loc.gov/resource/fsa.8d24709/?fo=json 200\n",
      "wrote ../Jordan/cp/item-metadata/item-metadata-fsa.8d24709.json\n",
      "requested https://www.loc.gov/resource/highsm.36052/?fo=json 200\n",
      "wrote ../Jordan/cp/item-metadata/item-metadata-highsm.36052.json\n",
      "requested https://www.loc.gov/resource/highsm.51772/?fo=json 200\n",
      "wrote ../Jordan/cp/item-metadata/item-metadata-highsm.51772.json\n",
      "requested https://www.loc.gov/resource/cph.3b43255/?fo=json 200\n",
      "wrote ../Jordan/cp/item-metadata/item-metadata-cph.3b43255.json\n",
      "requested https://www.loc.gov/resource/highsm.20483/?fo=json 200\n",
      "wrote ../Jordan/cp/item-metadata/item-metadata-highsm.20483.json\n",
      "requested https://www.loc.gov/resource/highsm.29207/?fo=json 200\n",
      "wrote ../Jordan/cp/item-metadata/item-metadata-highsm.29207.json\n",
      "requested https://www.loc.gov/resource/fsa.8b32222/?fo=json 200\n",
      "wrote ../Jordan/cp/item-metadata/item-metadata-fsa.8b32222.json\n",
      "requested https://www.loc.gov/resource/highsm.64003/?fo=json 200\n",
      "wrote ../Jordan/cp/item-metadata/item-metadata-highsm.64003.json\n",
      "requested https://www.loc.gov/resource/ppmsca.15412/?fo=json 200\n",
      "wrote ../Jordan/cp/item-metadata/item-metadata-ppmsca.15412.json\n",
      "requested https://www.loc.gov/resource/highsm.49335/?fo=json 200\n",
      "wrote ../Jordan/cp/item-metadata/item-metadata-highsm.49335.json\n",
      "requested https://www.loc.gov/resource/highsm.20497/?fo=json 200\n",
      "wrote ../Jordan/cp/item-metadata/item-metadata-highsm.20497.json\n",
      "requested https://www.loc.gov/resource/npcc.28724/?fo=json 200\n",
      "wrote ../Jordan/cp/item-metadata/item-metadata-npcc.28724.json\n",
      "requested https://www.loc.gov/resource/ds.06560/?fo=json 200\n",
      "wrote ../Jordan/cp/item-metadata/item-metadata-ds.06560.json\n",
      "requested https://www.loc.gov/resource/hhh.hi0135.photos?fo=json 200\n",
      "wrote ../Jordan/cp/item-metadata/item-metadata-hhh.hi0135.photos.json\n",
      "requested https://www.loc.gov/resource/cph.3f05168/?fo=json 200\n",
      "wrote ../Jordan/cp/item-metadata/item-metadata-cph.3f05168.json\n",
      "requested https://www.loc.gov/resource/ppmsca.15375/?fo=json 200\n",
      "wrote ../Jordan/cp/item-metadata/item-metadata-ppmsca.15375.json\n",
      "requested https://www.loc.gov/resource/highsm.53335/?fo=json 200\n",
      "wrote ../Jordan/cp/item-metadata/item-metadata-highsm.53335.json\n",
      "requested https://www.loc.gov/resource/hhh.ks0072.photos/?sp=2&fo=json 200\n",
      "wrote ../Jordan/cp/item-metadata/item-metadata-hhh.ks0072.photos.json\n",
      "requested https://www.loc.gov/resource/highsm.34640/?fo=json 200\n",
      "wrote ../Jordan/cp/item-metadata/item-metadata-highsm.34640.json\n",
      "requested https://www.loc.gov/item/97517380/ 200\n",
      "json not found\n",
      "requested https://www.loc.gov/resource/ppmsca.18016/?fo=json 200\n",
      "wrote ../Jordan/cp/item-metadata/item-metadata-ppmsca.18016.json\n",
      "requested https://www.loc.gov/resource/hhh.me0057.photos/?sp=1&fo=json 200\n",
      "wrote ../Jordan/cp/item-metadata/item-metadata-hhh.me0057.photos.json\n",
      "requested https://www.loc.gov/resource/highsm.41101/?fo=json 200\n",
      "wrote ../Jordan/cp/item-metadata/item-metadata-highsm.41101.json\n",
      "requested https://www.loc.gov/resource/det.4a17925/?fo=json 200\n",
      "wrote ../Jordan/cp/item-metadata/item-metadata-det.4a17925.json\n",
      "requested https://www.loc.gov/resource/ppmsca.15426/?fo=json 200\n",
      "wrote ../Jordan/cp/item-metadata/item-metadata-ppmsca.15426.json\n",
      "requested https://www.loc.gov/resource/ppmscd.00084/?fo=json 200\n",
      "wrote ../Jordan/cp/item-metadata/item-metadata-ppmscd.00084.json\n",
      "requested https://www.loc.gov/resource/highsm.18384/?fo=json 200\n",
      "wrote ../Jordan/cp/item-metadata/item-metadata-highsm.18384.json\n",
      "requested https://www.loc.gov/resource/g3851e.ct006252/?fo=json 200\n",
      "wrote ../Jordan/cp/item-metadata/item-metadata-g3851e.ct006252.json\n",
      "requested https://www.loc.gov/resource/ppmsca.35590/?fo=json 200\n",
      "wrote ../Jordan/cp/item-metadata/item-metadata-ppmsca.35590.json\n",
      "requested https://www.loc.gov/resource/hhh.il0998.sheet/?sp=1&fo=json 200\n",
      "wrote ../Jordan/cp/item-metadata/item-metadata-hhh.il0998.sheet.json\n",
      "requested https://www.loc.gov/resource/hhh.ok0012.sheet/?sp=8&q=hhh.ok0012&fo=json 200\n",
      "wrote ../Jordan/cp/item-metadata/item-metadata-hhh.ok0012.sheet.json\n",
      "requested https://www.loc.gov/resource/hhh.sc0767.photos/?sp=1&fo=json 200\n",
      "wrote ../Jordan/cp/item-metadata/item-metadata-hhh.sc0767.photos.json\n",
      "requested https://www.loc.gov/resource/hhh.nj0089.photos/?sp=4&fo=json 200\n",
      "wrote ../Jordan/cp/item-metadata/item-metadata-hhh.nj0089.photos.json\n",
      "requested https://www.loc.gov/resource/highsm.31350/?fo=json 200\n",
      "wrote ../Jordan/cp/item-metadata/item-metadata-highsm.31350.json\n",
      "requested https://www.loc.gov/resource/hhh.ri0071.photos/?sp=8&fo=json 200\n",
      "wrote ../Jordan/cp/item-metadata/item-metadata-hhh.ri0071.photos.json\n",
      "requested https://www.loc.gov/resource/highsm.48241/?fo=json 200\n",
      "wrote ../Jordan/cp/item-metadata/item-metadata-highsm.48241.json\n",
      "requested https://www.loc.gov/resource/det.4a23603/?fo=json 200\n",
      "wrote ../Jordan/cp/item-metadata/item-metadata-det.4a23603.json\n",
      "requested https://www.loc.gov/resource/highsm.04362/?fo=json 200\n",
      "wrote ../Jordan/cp/item-metadata/item-metadata-highsm.04362.json\n",
      "requested https://www.loc.gov/resource/hhh.dc0121.photos/?sp=24&fo=json 200\n",
      "wrote ../Jordan/cp/item-metadata/item-metadata-hhh.dc0121.photos.json\n",
      "requested https://www.loc.gov/resource/ppbd.00600/?fo=json 200\n",
      "wrote ../Jordan/cp/item-metadata/item-metadata-ppbd.00600.json\n",
      "requested https://www.loc.gov/resource/fsa.8b14169/?fo=json 200\n",
      "wrote ../Jordan/cp/item-metadata/item-metadata-fsa.8b14169.json\n",
      "requested https://www.loc.gov/resource/highsm.32720/?fo=json 200\n",
      "wrote ../Jordan/cp/item-metadata/item-metadata-highsm.32720.json\n",
      "requested https://www.loc.gov/resource/fsa.8c22565/?fo=json 200\n",
      "wrote ../Jordan/cp/item-metadata/item-metadata-fsa.8c22565.json\n",
      "requested https://www.loc.gov/resource/mrg.00785/?fo=json 200\n",
      "wrote ../Jordan/cp/item-metadata/item-metadata-mrg.00785.json\n",
      "requested https://www.loc.gov/resource/hhh.ak0345.photos/?sp=2&fo=json 200\n",
      "wrote ../Jordan/cp/item-metadata/item-metadata-hhh.ak0345.photos.json\n",
      "requested https://www.loc.gov/resource/highsm.43863/?fo=json 200\n",
      "wrote ../Jordan/cp/item-metadata/item-metadata-highsm.43863.json\n",
      "requested https://www.loc.gov/resource/highsm.42123/?fo=json 200\n",
      "wrote ../Jordan/cp/item-metadata/item-metadata-highsm.42123.json\n",
      "requested https://www.loc.gov/resource/cph.3c18157/?fo=json 200\n",
      "wrote ../Jordan/cp/item-metadata/item-metadata-cph.3c18157.json\n",
      "requested https://www.loc.gov/resource/ds.06507/?fo=json 200\n",
      "wrote ../Jordan/cp/item-metadata/item-metadata-ds.06507.json\n",
      "requested https://www.loc.gov/resource/highsm.24333/?fo=json 200\n",
      "wrote ../Jordan/cp/item-metadata/item-metadata-highsm.24333.json\n",
      "requested https://www.loc.gov/resource/mrg.00788/?fo=json 200\n",
      "wrote ../Jordan/cp/item-metadata/item-metadata-mrg.00788.json\n",
      "requested https://www.loc.gov/resource/highsm.20216/?fo=json 200\n",
      "wrote ../Jordan/cp/item-metadata/item-metadata-highsm.20216.json\n",
      "requested https://www.loc.gov/resource/cph.3b41963/?fo=json 200\n",
      "wrote ../Jordan/cp/item-metadata/item-metadata-cph.3b41963.json\n",
      "requested https://www.loc.gov/resource/mrg.00432/?fo=json 200\n",
      "wrote ../Jordan/cp/item-metadata/item-metadata-mrg.00432.json\n",
      "requested https://www.loc.gov/item/93510022/ 200\n",
      "json not found\n",
      "requested https://www.loc.gov/resource/highsm.60215/?fo=json 200\n",
      "wrote ../Jordan/cp/item-metadata/item-metadata-highsm.60215.json\n",
      "requested https://www.loc.gov/item/2007684180/ 200\n",
      "json not found\n",
      "requested https://www.loc.gov/resource/highsm.50410/?fo=json 200\n",
      "wrote ../Jordan/cp/item-metadata/item-metadata-highsm.50410.json\n",
      "requested https://www.loc.gov/resource/hhh.nv0134.photos?fo=json 200\n",
      "wrote ../Jordan/cp/item-metadata/item-metadata-hhh.nv0134.photos.json\n",
      "requested https://www.loc.gov/resource/highsm.18402?fo=json 200\n",
      "wrote ../Jordan/cp/item-metadata/item-metadata-highsm.18402.json\n",
      "--- mini LOG ---\n",
      "items requested: 59\n",
      "errors: 3\n",
      "files written: 59\n"
     ]
    }
   ],
   "source": [
    "item_count = 0\n",
    "error_count = 0\n",
    "file_count = 0\n",
    "\n",
    "parent_directory = 'Jordan'\n",
    "data_directory = 'cp'\n",
    "item_metadata_directory = 'item-metadata'\n",
    "item_metadata_file_prefix = 'item-metadata'\n",
    "json_suffix = '.json'\n",
    "\n",
    "for item in cl_set_list:\n",
    "    if item['link'] == 'link':\n",
    "        continue\n",
    "    if '?' in item ['link']:\n",
    "        item_id = item['link']\n",
    "        short_id = item['link'].split('/')[2]\n",
    "        item_metadata = requests.get(baseURL + item_id, params=parameters)\n",
    "        print('requested', item_metadata.url, item_metadata.status_code)\n",
    "        if item_metadata.status_code != 200:\n",
    "            print('requested', item_metadata.url, item_metadata.status_code)\n",
    "            error_count += 1\n",
    "            continue\n",
    "        try:\n",
    "            item_metadata.json()\n",
    "        except:\n",
    "            error_count += 1\n",
    "            print ('json not found')\n",
    "            continue\n",
    "        file_out = os.path.join('..', parent_directory, data_directory, item_metadata_directory, str(item_metadata_file_prefix + '-' + short_id + json_suffix))\n",
    "        with open(file_out, 'w', encoding='utf-8') as json_file:\n",
    "            json_file.write(json.dumps(item_metadata.json()['item']))\n",
    "            file_count += 1\n",
    "            print('wrote', file_out)\n",
    "        item_count += 1\n",
    "    else:\n",
    "        item_id = item['link']\n",
    "        short_id = item['link'].split('/')[2]\n",
    "        item_metadata = requests.get(baseURL + item_id, params=parameters)\n",
    "        print('requested', item_metadata.url, item_metadata.status_code)\n",
    "        if item_metadata.status_code != 200:\n",
    "            print('requested', item_metadata.url, item_metadata.status_code)\n",
    "            error_count += 1\n",
    "            continue\n",
    "        try:\n",
    "            item_metadata.json()\n",
    "        except:\n",
    "            error_count += 1\n",
    "            print ('json not found')\n",
    "            continue\n",
    "        file_out = os.path.join('..', parent_directory, data_directory, item_metadata_directory, str(item_metadata_file_prefix + '-' + short_id + json_suffix))\n",
    "        with open(file_out, 'w', encoding='utf-8') as json_file:\n",
    "            json_file.write(json.dumps(item_metadata.json()['item']))\n",
    "            file_count += 1\n",
    "            print('wrote', file_out)\n",
    "        item_count += 1\n",
    "\n",
    "\n",
    "print('--- mini LOG ---')\n",
    "print('items requested:',item_count)\n",
    "print('errors:',error_count)\n",
    "print('files written:',file_count)\n",
    "\n"
   ]
  },
  {
   "cell_type": "markdown",
   "metadata": {},
   "source": [
    "Harvest Individual Item Images"
   ]
  },
  {
   "cell_type": "code",
   "execution_count": 19,
   "metadata": {},
   "outputs": [
    {
     "name": "stdout",
     "output_type": "stream",
     "text": [
      "Checking for /Users/jrhym/Desktop/si676-2024-data/data/Jordan/cp/img-files\n"
     ]
    },
    {
     "ename": "FileNotFoundError",
     "evalue": "[Errno 2] No such file or directory: '/Users/jrhym/Desktop/si676-2024-data/data/Jordan/cp/img-files'",
     "output_type": "error",
     "traceback": [
      "\u001b[0;31m---------------------------------------------------------------------------\u001b[0m",
      "\u001b[0;31mFileNotFoundError\u001b[0m                         Traceback (most recent call last)",
      "Cell \u001b[0;32mIn[19], line 13\u001b[0m\n\u001b[1;32m     11\u001b[0m     \u001b[38;5;28mprint\u001b[39m(\u001b[38;5;124m'\u001b[39m\u001b[38;5;124mImage directory exists\u001b[39m\u001b[38;5;124m'\u001b[39m)\n\u001b[1;32m     12\u001b[0m \u001b[38;5;28;01melse\u001b[39;00m:\n\u001b[0;32m---> 13\u001b[0m     \u001b[43mos\u001b[49m\u001b[38;5;241;43m.\u001b[39;49m\u001b[43mmkdir\u001b[49m\u001b[43m(\u001b[49m\u001b[43mimg_loc\u001b[49m\u001b[43m)\u001b[49m\n\u001b[1;32m     14\u001b[0m     \u001b[38;5;28mprint\u001b[39m(\u001b[38;5;124m'\u001b[39m\u001b[38;5;124mCreated directory for:\u001b[39m\u001b[38;5;124m'\u001b[39m, img_loc)\n",
      "\u001b[0;31mFileNotFoundError\u001b[0m: [Errno 2] No such file or directory: '/Users/jrhym/Desktop/si676-2024-data/data/Jordan/cp/img-files'"
     ]
    }
   ],
   "source": [
    "key_dir = os.path.join('/','Users','jrhym','Desktop','si676-2024-data', 'data')\n",
    "parent_directory = 'Jordan'\n",
    "project_dir = 'cp'\n",
    "image_dir = 'img-files'\n",
    "metadata_dir = 'item-metadata'\n",
    "\n",
    "img_loc = os.path.join(key_dir, parent_directory, project_dir, image_dir)\n",
    "print('Checking for', img_loc)\n",
    "\n",
    "if os.path.isdir(img_loc):\n",
    "    print('Image directory exists')\n",
    "else:\n",
    "    os.mkdir(img_loc)\n",
    "    print('Created directory for:', img_loc)\n"
   ]
  },
  {
   "cell_type": "code",
   "execution_count": null,
   "metadata": {},
   "outputs": [
    {
     "name": "stdout",
     "output_type": "stream",
     "text": [
      "../Jordan/cp/item-metadata\n",
      "['../Jordan/cp/item-metadata/item-metadata-cph.3f05168.json', '../Jordan/cp/item-metadata/item-metadata-highsm.36052.json', '../Jordan/cp/item-metadata/item-metadata-highsm.60215.json', '../Jordan/cp/item-metadata/item-metadata-cph.3b43255.json', '../Jordan/cp/item-metadata/item-metadata-mrg.00788.json', '../Jordan/cp/item-metadata/item-metadata-ds.06560.json', '../Jordan/cp/item-metadata/item-metadata-highsm.51772.json', '../Jordan/cp/item-metadata/item-metadata-highsm.49335.json', '../Jordan/cp/item-metadata/item-metadata-highsm.20216.json', '../Jordan/cp/item-metadata/item-metadata-ppmsca.15375.json', '../Jordan/cp/item-metadata/item-metadata-highsm.18402.json', '../Jordan/cp/item-metadata/item-metadata-mrg.00785.json', '../Jordan/cp/item-metadata/item-metadata-highsm.04362.json', '../Jordan/cp/item-metadata/item-metadata-det.4a23603.json', '../Jordan/cp/item-metadata/item-metadata-highsm.29207.json', '../Jordan/cp/item-metadata/item-metadata-hhh.ok0012.sheet.json', '../Jordan/cp/item-metadata/item-metadata-ppbd.00600.json', '../Jordan/cp/item-metadata/item-metadata-highsm.50410.json', '../Jordan/cp/item-metadata/item-metadata-hhh.sc0767.photos.json', '../Jordan/cp/item-metadata/item-metadata-highsm.20483.json', '../Jordan/cp/item-metadata/item-metadata-highsm.18384.json', '../Jordan/cp/item-metadata/item-metadata-ds.06507.json', '../Jordan/cp/item-metadata/item-metadata-hhh.hi0135.photos.json', '../Jordan/cp/item-metadata/item-metadata-fsa.8d24709.json', '../Jordan/cp/item-metadata/item-metadata-ppmsca.15426.json', '../Jordan/cp/item-metadata/item-metadata-highsm.42123.json', '../Jordan/cp/item-metadata/item-metadata-hhh.il0998.sheet.json', '../Jordan/cp/item-metadata/item-metadata-highsm.53335.json', '../Jordan/cp/item-metadata/item-metadata-highsm.48241.json', '../Jordan/cp/item-metadata/item-metadata-fsa.8b32222.json', '../Jordan/cp/item-metadata/item-metadata-mrg.00432.json', '../Jordan/cp/item-metadata/item-metadata-hhh.ks0072.photos.json', '../Jordan/cp/item-metadata/item-metadata-highsm.43863.json', '../Jordan/cp/item-metadata/item-metadata-fsa.8b14169.json', '../Jordan/cp/item-metadata/item-metadata-cph.3f05183.json', '../Jordan/cp/item-metadata/item-metadata-npcc.28724.json', '../Jordan/cp/item-metadata/item-metadata-highsm.20497.json', '../Jordan/cp/item-metadata/item-metadata-hhh.nv0134.photos.json', '../Jordan/cp/item-metadata/item-metadata-ppmsca.18016.json', '../Jordan/cp/item-metadata/item-metadata-ppmsca.35590.json', '../Jordan/cp/item-metadata/item-metadata-cph.3c18157.json', '../Jordan/cp/item-metadata/item-metadata-hhh.ri0071.photos.json', '../Jordan/cp/item-metadata/item-metadata-cph.3b41963.json', '../Jordan/cp/item-metadata/item-metadata-hhh.me0057.photos.json', '../Jordan/cp/item-metadata/item-metadata-highsm.34640.json', '../Jordan/cp/item-metadata/item-metadata-fsa.8c22565.json', '../Jordan/cp/item-metadata/item-metadata-highsm.20336.json', '../Jordan/cp/item-metadata/item-metadata-highsm.32720.json', '../Jordan/cp/item-metadata/item-metadata-ppmsca.15412.json', '../Jordan/cp/item-metadata/item-metadata-g3851e.ct006252.json', '../Jordan/cp/item-metadata/item-metadata-det.4a17925.json', '../Jordan/cp/item-metadata/item-metadata-ppmscd.00084.json', '../Jordan/cp/item-metadata/item-metadata-highsm.24333.json', '../Jordan/cp/item-metadata/item-metadata-hhh.dc0121.photos.json', '../Jordan/cp/item-metadata/item-metadata-highsm.64003.json', '../Jordan/cp/item-metadata/item-metadata-highsm.31350.json', '../Jordan/cp/item-metadata/item-metadata-highsm.41101.json', '../Jordan/cp/item-metadata/item-metadata-hhh.ak0345.photos.json', '../Jordan/cp/item-metadata/item-metadata-hhh.nj0089.photos.json']\n"
     ]
    }
   ],
   "source": [
    "metadata_hotspot = os.path.join('..', parent_directory, project_dir, metadata_dir)\n",
    "print(metadata_hotspot)\n",
    "\n",
    "metadata_file_list = glob.glob(metadata_hotspot + '/*.json')\n",
    "print(metadata_file_list)\n"
   ]
  },
  {
   "cell_type": "code",
   "execution_count": null,
   "metadata": {},
   "outputs": [
    {
     "name": "stdout",
     "output_type": "stream",
     "text": [
      "Identified 59 image URLs\n"
     ]
    }
   ],
   "source": [
    "item_img_url = list()\n",
    "count = 0\n",
    "\n",
    "for file in metadata_file_list:\n",
    "    with open(file, 'r', encoding='utf-8') as json_file:\n",
    "        metadata = json.load(json_file)\n",
    "        img_url_id = len(metadata['image_url'])\n",
    "        img_url = metadata['image_url'][-1]\n",
    "        item_img_url.append(img_url)\n",
    "        count += 1\n",
    "print(f'Identified {str(count)} image URLs')"
   ]
  },
  {
   "cell_type": "code",
   "execution_count": null,
   "metadata": {},
   "outputs": [
    {
     "data": {
      "text/plain": [
       "['https://tile.loc.gov/storage-services/service/pnp/cph/3f00000/3f05000/3f05100/3f05168v.jpg#h=1024&w=708',\n",
       " 'https://tile.loc.gov/image-services/iiif/service:pnp:highsm:36000:36052/full/pct:25/0/default.jpg#h=1448&w=2172',\n",
       " 'https://tile.loc.gov/storage-services/service/pnp/highsm/60200/60215v.jpg#h=741&w=1024',\n",
       " 'https://tile.loc.gov/storage-services/service/pnp/cph/3b40000/3b43000/3b43200/3b43255r.jpg#h=422&w=640',\n",
       " 'https://tile.loc.gov/storage-services/service/pnp/mrg/00700/00788v.jpg#h=699&w=1024',\n",
       " 'https://tile.loc.gov/storage-services/service/pnp/ds/06500/06560v.jpg#h=727&w=1024',\n",
       " 'https://tile.loc.gov/storage-services/service/pnp/highsm/51700/51772v.jpg#h=570&w=1024',\n",
       " 'https://tile.loc.gov/storage-services/service/pnp/highsm/49300/49335v.jpg#h=618&w=1024',\n",
       " 'https://tile.loc.gov/image-services/iiif/service:pnp:highsm:20200:20216/full/pct:25/0/default.jpg#h=772&w=1551',\n",
       " 'https://tile.loc.gov/storage-services/service/pnp/ppmsca/15300/15375v.jpg#h=1024&w=823',\n",
       " 'https://tile.loc.gov/image-services/iiif/service:pnp:highsm:18400:18402/full/pct:25/0/default.jpg#h=1024&w=1536',\n",
       " 'https://tile.loc.gov/storage-services/service/pnp/mrg/00700/00785v.jpg#h=697&w=1024',\n",
       " 'https://tile.loc.gov/image-services/iiif/service:pnp:highsm:04300:04362/full/pct:25/0/default.jpg#h=1358&w=1810',\n",
       " 'https://tile.loc.gov/storage-services/service/pnp/det/4a20000/4a23000/4a23600/4a23603v.jpg#h=820&w=1024',\n",
       " 'https://tile.loc.gov/image-services/iiif/service:pnp:highsm:29200:29207/full/pct:25/0/default.jpg#h=1840&w=1228',\n",
       " 'https://tile.loc.gov/storage-services/service/pnp/habshaer/ok/ok0000/ok0012/photos/129399pv.jpg#h=833&w=1024',\n",
       " 'https://tile.loc.gov/storage-services/service/pnp/ppbd/00600/00600v.jpg#h=1024&w=765',\n",
       " 'https://tile.loc.gov/storage-services/service/pnp/highsm/50400/50410v.jpg#h=558&w=1024',\n",
       " 'https://tile.loc.gov/storage-services/service/pnp/habshaer/sc/sc0700/sc0767/color/571307cv.jpg#h=745&w=1024',\n",
       " 'https://tile.loc.gov/image-services/iiif/service:pnp:highsm:20400:20483/full/pct:25/0/default.jpg#h=1028&w=1536',\n",
       " 'https://tile.loc.gov/image-services/iiif/service:pnp:highsm:18300:18384/full/pct:25/0/default.jpg#h=1940&w=2582',\n",
       " 'https://tile.loc.gov/storage-services/service/pnp/ds/06500/06507v.jpg#h=826&w=1024',\n",
       " 'https://tile.loc.gov/storage-services/service/pnp/habshaer/hi/hi0100/hi0135/photos/058276pv.jpg#h=733&w=1024',\n",
       " 'https://tile.loc.gov/storage-services/service/pnp/fsa/8d24000/8d24700/8d24709v.jpg#h=1024&w=976',\n",
       " 'https://tile.loc.gov/storage-services/service/pnp/ppmsca/15400/15426v.jpg#h=1024&w=822',\n",
       " 'https://tile.loc.gov/image-services/iiif/service:pnp:highsm:42100:42123/full/pct:25/0/default.jpg#h=1978&w=1398',\n",
       " 'https://tile.loc.gov/storage-services/service/pnp/habshaer/il/il0900/il0998/sheet/00001v.jpg#h=678&w=1024',\n",
       " 'https://tile.loc.gov/storage-services/service/pnp/highsm/53300/53335v.jpg#h=1000&w=1024',\n",
       " 'https://tile.loc.gov/image-services/iiif/service:pnp:highsm:48200:48241/full/pct:25/0/default.jpg#h=2380&w=1945',\n",
       " 'https://tile.loc.gov/storage-services/service/pnp/fsa/8b32000/8b32200/8b32222v.jpg#h=1024&w=963',\n",
       " 'https://tile.loc.gov/storage-services/service/pnp/mrg/00400/00432v.jpg#h=709&w=1024',\n",
       " 'https://tile.loc.gov/storage-services/service/pnp/habshaer/ks/ks0000/ks0072/photos/069905pv.jpg#h=815&w=1024',\n",
       " 'https://tile.loc.gov/image-services/iiif/service:pnp:highsm:43800:43863/full/pct:25/0/default.jpg#h=2117&w=2822',\n",
       " 'https://tile.loc.gov/storage-services/service/pnp/fsa/8b14000/8b14100/8b14169v.jpg#h=783&w=1024',\n",
       " 'https://tile.loc.gov/storage-services/service/pnp/cph/3f00000/3f05000/3f05100/3f05183v.jpg#h=1024&w=705',\n",
       " 'https://tile.loc.gov/storage-services/service/pnp/npcc/28700/28724v.jpg#h=788&w=1024',\n",
       " 'https://tile.loc.gov/image-services/iiif/service:pnp:highsm:20400:20497/full/pct:50/0/default.jpg#h=2395&w=2053',\n",
       " 'https://tile.loc.gov/storage-services/service/pnp/habshaer/nv/nv0100/nv0134/photos/043970pv.jpg#h=819&w=1024',\n",
       " 'https://tile.loc.gov/storage-services/service/pnp/ppmsca/18000/18016v.jpg#h=755&w=1024',\n",
       " 'https://tile.loc.gov/storage-services/service/pnp/ppmsca/35500/35590v.jpg#h=642&w=1024',\n",
       " 'https://tile.loc.gov/storage-services/service/pnp/cph/3c10000/3c18000/3c18100/3c18157v.jpg#h=824&w=1024',\n",
       " 'https://tile.loc.gov/storage-services/service/pnp/habshaer/ri/ri0000/ri0071/photos/144412pv.jpg#h=732&w=1024',\n",
       " 'https://tile.loc.gov/storage-services/service/pnp/cph/3b40000/3b41000/3b41900/3b41963v.jpg#h=823&w=1024',\n",
       " 'https://tile.loc.gov/storage-services/service/pnp/habshaer/me/me0000/me0057/photos/088141pv.jpg#h=814&w=1024',\n",
       " 'https://tile.loc.gov/image-services/iiif/service:pnp:highsm:34600:34640/full/pct:25/0/default.jpg#h=1113&w=1602',\n",
       " 'https://tile.loc.gov/storage-services/service/pnp/fsa/8c22000/8c22500/8c22565v.jpg#h=787&w=1024',\n",
       " 'https://tile.loc.gov/image-services/iiif/service:pnp:highsm:20300:20336/full/pct:25/0/default.jpg#h=829&w=1540',\n",
       " 'https://tile.loc.gov/image-services/iiif/service:pnp:highsm:32700:32720/full/pct:25/0/default.jpg#h=1029&w=1530',\n",
       " 'https://tile.loc.gov/storage-services/service/pnp/ppmsca/15400/15412v.jpg#h=779&w=1024',\n",
       " 'https://tile.loc.gov/image-services/iiif/service:gmd:gmd385:g3851:g3851e:ct006252/full/pct:25/0/default.jpg#h=1205&w=1684',\n",
       " 'https://tile.loc.gov/storage-services/service/pnp/det/4a10000/4a17000/4a17900/4a17925v.jpg#h=814&w=1024',\n",
       " 'https://tile.loc.gov/storage-services/service/pnp/ppmscd/00000/00084v.jpg#h=829&w=1024',\n",
       " 'https://tile.loc.gov/image-services/iiif/service:pnp:highsm:24300:24333/full/pct:50/0/default.jpg#h=1514&w=1207',\n",
       " 'https://tile.loc.gov/storage-services/service/pnp/habshaer/dc/dc0100/dc0121/color/376695cv.jpg#h=1024&w=752',\n",
       " 'https://tile.loc.gov/storage-services/service/pnp/highsm/64000/64003v.jpg#h=768&w=1024',\n",
       " 'https://tile.loc.gov/image-services/iiif/service:pnp:highsm:31300:31350/full/pct:25/0/default.jpg#h=1228&w=1642',\n",
       " 'https://tile.loc.gov/image-services/iiif/service:pnp:highsm:41100:41101/full/pct:25/0/default.jpg#h=1448&w=2172',\n",
       " 'https://tile.loc.gov/storage-services/service/pnp/habshaer/ak/ak0300/ak0345/photos/033063pv.jpg#h=817&w=1024',\n",
       " 'https://tile.loc.gov/storage-services/service/pnp/habshaer/nj/nj0000/nj0089/photos/107604pv.jpg#h=733&w=1024']"
      ]
     },
     "execution_count": 41,
     "metadata": {},
     "output_type": "execute_result"
    }
   ],
   "source": [
    "item_img_url"
   ]
  },
  {
   "cell_type": "markdown",
   "metadata": {},
   "source": []
  },
  {
   "cell_type": "code",
   "execution_count": null,
   "metadata": {},
   "outputs": [
    {
     "name": "stdout",
     "output_type": "stream",
     "text": [
      "{'item_URI': 'http://www.loc.gov/item/98508385/', 'lccn': '98508385', 'title': 'Curb service 10,000 current books - convenient, free, time saving : Chicago Public Library, Randolph St. corridor.', 'image_URL_large': 'https://tile.loc.gov/storage-services/service/pnp/cph/3f00000/3f05000/3f05100/3f05168v.jpg#h=1024&w=708'}\n"
     ]
    }
   ],
   "source": [
    "cp_set_list_with_imgs = list()\n",
    "\n",
    "for item in metadata_file_list:\n",
    "    with open(item, 'r', encoding='utf-8') as item_data:\n",
    "        item_metadata = json.load(item_data)\n",
    "\n",
    "        item_metadata_dict = dict()\n",
    "        item_metadata_dict['item_URI'] = item_metadata['id']\n",
    "        try:\n",
    "            item_metadata_dict['lccn'] = item_metadata['library_of_congress_control_number']\n",
    "        except:\n",
    "            item_metadata_dict['lccn'] = None\n",
    "        item_metadata_dict['title'] = item_metadata['title']\n",
    "        item_metadata_dict['image_URL_large'] = item_metadata['image_url'][-1]\n",
    "\n",
    "        cp_set_list_with_imgs.append(item_metadata_dict)\n",
    "print(cp_set_list_with_imgs[0])"
   ]
  },
  {
   "cell_type": "code",
   "execution_count": null,
   "metadata": {},
   "outputs": [
    {
     "name": "stdout",
     "output_type": "stream",
     "text": [
      "... fetching https://tile.loc.gov/storage-services/service/pnp/cph/3f00000/3f05000/3f05100/3f05168v.jpg#h=1024&w=708\n",
      "Saved /Users/jrhym/Desktop/si676-2024-data/data/Jordan/cp/img-files/img_98508385.jpg\n",
      "... fetching https://tile.loc.gov/image-services/iiif/service:pnp:highsm:36000:36052/full/pct:25/0/default.jpg#h=1448&w=2172\n",
      "Saved /Users/jrhym/Desktop/si676-2024-data/data/Jordan/cp/img-files/img_2017686535.jpg\n",
      "... fetching https://tile.loc.gov/storage-services/service/pnp/highsm/60200/60215v.jpg#h=741&w=1024\n",
      "Saved /Users/jrhym/Desktop/si676-2024-data/data/Jordan/cp/img-files/img_2020723718.jpg\n",
      "... fetching https://tile.loc.gov/storage-services/service/pnp/cph/3b40000/3b43000/3b43200/3b43255r.jpg#h=422&w=640\n",
      "Saved /Users/jrhym/Desktop/si676-2024-data/data/Jordan/cp/img-files/img_89710983.jpg\n",
      "... fetching https://tile.loc.gov/storage-services/service/pnp/mrg/00700/00788v.jpg#h=699&w=1024\n",
      "Saved /Users/jrhym/Desktop/si676-2024-data/data/Jordan/cp/img-files/img_2017702902.jpg\n",
      "... fetching https://tile.loc.gov/storage-services/service/pnp/ds/06500/06560v.jpg#h=727&w=1024\n",
      "Saved /Users/jrhym/Desktop/si676-2024-data/data/Jordan/cp/img-files/img_2014647618.jpg\n",
      "... fetching https://tile.loc.gov/storage-services/service/pnp/highsm/51700/51772v.jpg#h=570&w=1024\n",
      "Saved /Users/jrhym/Desktop/si676-2024-data/data/Jordan/cp/img-files/img_2018699890.jpg\n",
      "... fetching https://tile.loc.gov/storage-services/service/pnp/highsm/49300/49335v.jpg#h=618&w=1024\n",
      "Saved /Users/jrhym/Desktop/si676-2024-data/data/Jordan/cp/img-files/img_2018663053.jpg\n",
      "... fetching https://tile.loc.gov/image-services/iiif/service:pnp:highsm:20200:20216/full/pct:25/0/default.jpg#h=772&w=1551\n",
      "Saved /Users/jrhym/Desktop/si676-2024-data/data/Jordan/cp/img-files/img_2012631625.jpg\n",
      "... fetching https://tile.loc.gov/storage-services/service/pnp/ppmsca/15300/15375v.jpg#h=1024&w=823\n",
      "Saved /Users/jrhym/Desktop/si676-2024-data/data/Jordan/cp/img-files/img_2007684791.jpg\n",
      "... fetching https://tile.loc.gov/image-services/iiif/service:pnp:highsm:18400:18402/full/pct:25/0/default.jpg#h=1024&w=1536\n",
      "Saved /Users/jrhym/Desktop/si676-2024-data/data/Jordan/cp/img-files/img_2013646484.jpg\n",
      "... fetching https://tile.loc.gov/storage-services/service/pnp/mrg/00700/00785v.jpg#h=697&w=1024\n",
      "Saved /Users/jrhym/Desktop/si676-2024-data/data/Jordan/cp/img-files/img_2017702899.jpg\n",
      "... fetching https://tile.loc.gov/image-services/iiif/service:pnp:highsm:04300:04362/full/pct:25/0/default.jpg#h=1358&w=1810\n",
      "Saved /Users/jrhym/Desktop/si676-2024-data/data/Jordan/cp/img-files/img_2010630352.jpg\n",
      "... fetching https://tile.loc.gov/storage-services/service/pnp/det/4a20000/4a23000/4a23600/4a23603v.jpg#h=820&w=1024\n",
      "Saved /Users/jrhym/Desktop/si676-2024-data/data/Jordan/cp/img-files/img_2016815290.jpg\n",
      "... fetching https://tile.loc.gov/image-services/iiif/service:pnp:highsm:29200:29207/full/pct:25/0/default.jpg#h=1840&w=1228\n",
      "Saved /Users/jrhym/Desktop/si676-2024-data/data/Jordan/cp/img-files/img_2014633407.jpg\n",
      "... fetching https://tile.loc.gov/storage-services/service/pnp/habshaer/ok/ok0000/ok0012/photos/129399pv.jpg#h=833&w=1024\n",
      "Saved /Users/jrhym/Desktop/si676-2024-data/data/Jordan/cp/img-files/img_ok0012.jpg\n",
      "... fetching https://tile.loc.gov/storage-services/service/pnp/ppbd/00600/00600v.jpg#h=1024&w=765\n",
      "Saved /Users/jrhym/Desktop/si676-2024-data/data/Jordan/cp/img-files/img_2015647967.jpg\n",
      "... fetching https://tile.loc.gov/storage-services/service/pnp/highsm/50400/50410v.jpg#h=558&w=1024\n",
      "Saved /Users/jrhym/Desktop/si676-2024-data/data/Jordan/cp/img-files/img_2018698612.jpg\n",
      "... fetching https://tile.loc.gov/storage-services/service/pnp/habshaer/sc/sc0700/sc0767/color/571307cv.jpg#h=745&w=1024\n",
      "Saved /Users/jrhym/Desktop/si676-2024-data/data/Jordan/cp/img-files/img_sc0767.jpg\n",
      "... fetching https://tile.loc.gov/image-services/iiif/service:pnp:highsm:20400:20483/full/pct:25/0/default.jpg#h=1028&w=1536\n",
      "Saved /Users/jrhym/Desktop/si676-2024-data/data/Jordan/cp/img-files/img_2012630164.jpg\n",
      "... fetching https://tile.loc.gov/image-services/iiif/service:pnp:highsm:18300:18384/full/pct:25/0/default.jpg#h=1940&w=2582\n",
      "Saved /Users/jrhym/Desktop/si676-2024-data/data/Jordan/cp/img-files/img_2013646466.jpg\n",
      "... fetching https://tile.loc.gov/storage-services/service/pnp/ds/06500/06507v.jpg#h=826&w=1024\n",
      "Saved /Users/jrhym/Desktop/si676-2024-data/data/Jordan/cp/img-files/img_2014650180.jpg\n",
      "... fetching https://tile.loc.gov/storage-services/service/pnp/habshaer/hi/hi0100/hi0135/photos/058276pv.jpg#h=733&w=1024\n",
      "Saved /Users/jrhym/Desktop/si676-2024-data/data/Jordan/cp/img-files/img_hi0135.jpg\n",
      "... fetching https://tile.loc.gov/storage-services/service/pnp/fsa/8d24000/8d24700/8d24709v.jpg#h=1024&w=976\n",
      "Saved /Users/jrhym/Desktop/si676-2024-data/data/Jordan/cp/img-files/img_2017843202.jpg\n",
      "... fetching https://tile.loc.gov/storage-services/service/pnp/ppmsca/15400/15426v.jpg#h=1024&w=822\n",
      "Saved /Users/jrhym/Desktop/si676-2024-data/data/Jordan/cp/img-files/img_2007682033.jpg\n",
      "... fetching https://tile.loc.gov/image-services/iiif/service:pnp:highsm:42100:42123/full/pct:25/0/default.jpg#h=1978&w=1398\n",
      "Saved /Users/jrhym/Desktop/si676-2024-data/data/Jordan/cp/img-files/img_2016632941.jpg\n",
      "... fetching https://tile.loc.gov/storage-services/service/pnp/habshaer/il/il0900/il0998/sheet/00001v.jpg#h=678&w=1024\n",
      "Saved /Users/jrhym/Desktop/si676-2024-data/data/Jordan/cp/img-files/img_il0998.jpg\n",
      "... fetching https://tile.loc.gov/storage-services/service/pnp/highsm/53300/53335v.jpg#h=1000&w=1024\n",
      "Saved /Users/jrhym/Desktop/si676-2024-data/data/Jordan/cp/img-files/img_2019631085.jpg\n",
      "... fetching https://tile.loc.gov/image-services/iiif/service:pnp:highsm:48200:48241/full/pct:25/0/default.jpg#h=2380&w=1945\n",
      "Saved /Users/jrhym/Desktop/si676-2024-data/data/Jordan/cp/img-files/img_2017884872.jpg\n",
      "... fetching https://tile.loc.gov/storage-services/service/pnp/fsa/8b32000/8b32200/8b32222v.jpg#h=1024&w=963\n",
      "Saved /Users/jrhym/Desktop/si676-2024-data/data/Jordan/cp/img-files/img_2017770391.jpg\n",
      "... fetching https://tile.loc.gov/storage-services/service/pnp/mrg/00400/00432v.jpg#h=709&w=1024\n",
      "Saved /Users/jrhym/Desktop/si676-2024-data/data/Jordan/cp/img-files/img_2017702546.jpg\n",
      "... fetching https://tile.loc.gov/storage-services/service/pnp/habshaer/ks/ks0000/ks0072/photos/069905pv.jpg#h=815&w=1024\n",
      "Saved /Users/jrhym/Desktop/si676-2024-data/data/Jordan/cp/img-files/img_ks0072.jpg\n",
      "... fetching https://tile.loc.gov/image-services/iiif/service:pnp:highsm:43800:43863/full/pct:25/0/default.jpg#h=2117&w=2822\n",
      "Saved /Users/jrhym/Desktop/si676-2024-data/data/Jordan/cp/img-files/img_2017880767.jpg\n",
      "... fetching https://tile.loc.gov/storage-services/service/pnp/fsa/8b14000/8b14100/8b14169v.jpg#h=783&w=1024\n",
      "Saved /Users/jrhym/Desktop/si676-2024-data/data/Jordan/cp/img-files/img_2017762724.jpg\n",
      "... fetching https://tile.loc.gov/storage-services/service/pnp/cph/3f00000/3f05000/3f05100/3f05183v.jpg#h=1024&w=705\n",
      "Saved /Users/jrhym/Desktop/si676-2024-data/data/Jordan/cp/img-files/img_98508155.jpg\n",
      "... fetching https://tile.loc.gov/storage-services/service/pnp/npcc/28700/28724v.jpg#h=788&w=1024\n",
      "Saved /Users/jrhym/Desktop/si676-2024-data/data/Jordan/cp/img-files/img_2016851550.jpg\n",
      "... fetching https://tile.loc.gov/image-services/iiif/service:pnp:highsm:20400:20497/full/pct:50/0/default.jpg#h=2395&w=2053\n",
      "Saved /Users/jrhym/Desktop/si676-2024-data/data/Jordan/cp/img-files/img_2012630178.jpg\n",
      "... fetching https://tile.loc.gov/storage-services/service/pnp/habshaer/nv/nv0100/nv0134/photos/043970pv.jpg#h=819&w=1024\n",
      "Saved /Users/jrhym/Desktop/si676-2024-data/data/Jordan/cp/img-files/img_nv0134.jpg\n",
      "... fetching https://tile.loc.gov/storage-services/service/pnp/ppmsca/18000/18016v.jpg#h=755&w=1024\n",
      "Saved /Users/jrhym/Desktop/si676-2024-data/data/Jordan/cp/img-files/img_2008678216.jpg\n",
      "... fetching https://tile.loc.gov/storage-services/service/pnp/ppmsca/35500/35590v.jpg#h=642&w=1024\n",
      "Saved /Users/jrhym/Desktop/si676-2024-data/data/Jordan/cp/img-files/img_96514755.jpg\n",
      "... fetching https://tile.loc.gov/storage-services/service/pnp/cph/3c10000/3c18000/3c18100/3c18157v.jpg#h=824&w=1024\n",
      "Saved /Users/jrhym/Desktop/si676-2024-data/data/Jordan/cp/img-files/img_97511671.jpg\n",
      "... fetching https://tile.loc.gov/storage-services/service/pnp/habshaer/ri/ri0000/ri0071/photos/144412pv.jpg#h=732&w=1024\n",
      "Saved /Users/jrhym/Desktop/si676-2024-data/data/Jordan/cp/img-files/img_ri0071.jpg\n",
      "... fetching https://tile.loc.gov/storage-services/service/pnp/cph/3b40000/3b41000/3b41900/3b41963v.jpg#h=823&w=1024\n",
      "Saved /Users/jrhym/Desktop/si676-2024-data/data/Jordan/cp/img-files/img_91787443.jpg\n",
      "... fetching https://tile.loc.gov/storage-services/service/pnp/habshaer/me/me0000/me0057/photos/088141pv.jpg#h=814&w=1024\n",
      "Saved /Users/jrhym/Desktop/si676-2024-data/data/Jordan/cp/img-files/img_me0057.jpg\n",
      "... fetching https://tile.loc.gov/image-services/iiif/service:pnp:highsm:34600:34640/full/pct:25/0/default.jpg#h=1113&w=1602\n",
      "Saved /Users/jrhym/Desktop/si676-2024-data/data/Jordan/cp/img-files/img_2017685123.jpg\n",
      "... fetching https://tile.loc.gov/storage-services/service/pnp/fsa/8c22000/8c22500/8c22565v.jpg#h=787&w=1024\n",
      "Saved /Users/jrhym/Desktop/si676-2024-data/data/Jordan/cp/img-files/img_2017815837.jpg\n",
      "... fetching https://tile.loc.gov/image-services/iiif/service:pnp:highsm:20300:20336/full/pct:25/0/default.jpg#h=829&w=1540\n",
      "Saved /Users/jrhym/Desktop/si676-2024-data/data/Jordan/cp/img-files/img_2012630017.jpg\n",
      "... fetching https://tile.loc.gov/image-services/iiif/service:pnp:highsm:32700:32720/full/pct:25/0/default.jpg#h=1029&w=1530\n",
      "Saved /Users/jrhym/Desktop/si676-2024-data/data/Jordan/cp/img-files/img_2015632735.jpg\n",
      "... fetching https://tile.loc.gov/storage-services/service/pnp/ppmsca/15400/15412v.jpg#h=779&w=1024\n",
      "Saved /Users/jrhym/Desktop/si676-2024-data/data/Jordan/cp/img-files/img_2007684172.jpg\n",
      "... fetching https://tile.loc.gov/image-services/iiif/service:gmd:gmd385:g3851:g3851e:ct006252/full/pct:25/0/default.jpg#h=1205&w=1684\n",
      "Saved /Users/jrhym/Desktop/si676-2024-data/data/Jordan/cp/img-files/img_87694100.jpg\n",
      "... fetching https://tile.loc.gov/storage-services/service/pnp/det/4a10000/4a17000/4a17900/4a17925v.jpg#h=814&w=1024\n",
      "Saved /Users/jrhym/Desktop/si676-2024-data/data/Jordan/cp/img-files/img_2016809661.jpg\n",
      "... fetching https://tile.loc.gov/storage-services/service/pnp/ppmscd/00000/00084v.jpg#h=829&w=1024\n",
      "Saved /Users/jrhym/Desktop/si676-2024-data/data/Jordan/cp/img-files/img_2009632000.jpg\n",
      "... fetching https://tile.loc.gov/image-services/iiif/service:pnp:highsm:24300:24333/full/pct:50/0/default.jpg#h=1514&w=1207\n",
      "Saved /Users/jrhym/Desktop/si676-2024-data/data/Jordan/cp/img-files/img_2013631511.jpg\n",
      "... fetching https://tile.loc.gov/storage-services/service/pnp/habshaer/dc/dc0100/dc0121/color/376695cv.jpg#h=1024&w=752\n",
      "Saved /Users/jrhym/Desktop/si676-2024-data/data/Jordan/cp/img-files/img_dc0121.jpg\n",
      "... fetching https://tile.loc.gov/storage-services/service/pnp/highsm/64000/64003v.jpg#h=768&w=1024\n",
      "Saved /Users/jrhym/Desktop/si676-2024-data/data/Jordan/cp/img-files/img_2020722343.jpg\n",
      "... fetching https://tile.loc.gov/image-services/iiif/service:pnp:highsm:31300:31350/full/pct:25/0/default.jpg#h=1228&w=1642\n",
      "Saved /Users/jrhym/Desktop/si676-2024-data/data/Jordan/cp/img-files/img_2015631425.jpg\n",
      "... fetching https://tile.loc.gov/image-services/iiif/service:pnp:highsm:41100:41101/full/pct:25/0/default.jpg#h=1448&w=2172\n",
      "Saved /Users/jrhym/Desktop/si676-2024-data/data/Jordan/cp/img-files/img_2016631919.jpg\n",
      "... fetching https://tile.loc.gov/storage-services/service/pnp/habshaer/ak/ak0300/ak0345/photos/033063pv.jpg#h=817&w=1024\n",
      "Saved /Users/jrhym/Desktop/si676-2024-data/data/Jordan/cp/img-files/img_ak0345.jpg\n",
      "... fetching https://tile.loc.gov/storage-services/service/pnp/habshaer/nj/nj0000/nj0089/photos/107604pv.jpg#h=733&w=1024\n",
      "Saved /Users/jrhym/Desktop/si676-2024-data/data/Jordan/cp/img-files/img_nj0089.jpg\n",
      "--- mini LOG ---\n",
      "files requested: 59\n",
      "errors: 0\n",
      "files written: 59\n"
     ]
    }
   ],
   "source": [
    "item_count = 0\n",
    "error_count = 0\n",
    "file_count = 0\n",
    "\n",
    "img_file_prefix = 'img_'\n",
    "\n",
    "for item in cp_set_list_with_imgs:\n",
    "    img_url = item['image_URL_large']\n",
    "    short_id = item['item_URI'].split('/')[-2]\n",
    "    print('... fetching', img_url)\n",
    "    item_count += 1\n",
    "\n",
    "    r = requests.get(img_url)\n",
    "    if r.status_code == 200:\n",
    "        img_out = os.path.join(img_loc,str(img_file_prefix + short_id + '.jpg'))\n",
    "        with open(img_out, 'wb') as img_file:\n",
    "            img_file.write(r.content)\n",
    "            print('Saved', img_out)\n",
    "            file_count += 1\n",
    "\n",
    "print('--- mini LOG ---')\n",
    "print('files requested:',item_count)\n",
    "print('errors:',error_count)\n",
    "print('files written:',file_count)\n"
   ]
  }
 ],
 "metadata": {
  "kernelspec": {
   "display_name": "Python 3",
   "language": "python",
   "name": "python3"
  },
  "language_info": {
   "codemirror_mode": {
    "name": "ipython",
    "version": 3
   },
   "file_extension": ".py",
   "mimetype": "text/x-python",
   "name": "python",
   "nbconvert_exporter": "python",
   "pygments_lexer": "ipython3",
   "version": "3.11.5"
  }
 },
 "nbformat": 4,
 "nbformat_minor": 2
}
